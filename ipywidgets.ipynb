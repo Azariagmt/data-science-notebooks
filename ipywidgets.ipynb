{
 "cells": [
  {
   "cell_type": "code",
   "execution_count": null,
   "metadata": {},
   "outputs": [],
   "source": [
    "from ipywidgets import interact, interactive\n",
    "import ipywidgets as widgets\n",
    "\n",
    "z = widgets.IntSlider()\n",
    "def func(x):\n",
    "    return x\n",
    "\n",
    "\n",
    "w = interactive(func, x =20)\n",
    "\n",
    "w.children\n",
    "    \n",
    "z"
   ]
  },
  {
   "cell_type": "code",
   "execution_count": null,
   "metadata": {
    "scrolled": false
   },
   "outputs": [],
   "source": [
    "def func():\n",
    "    print('once only')\n",
    "    \n",
    "try:\n",
    "    func()\n",
    "except:\n",
    "    print('error')\n",
    "else:\n",
    "    del func\n"
   ]
  },
  {
   "cell_type": "code",
   "execution_count": null,
   "metadata": {},
   "outputs": [],
   "source": [
    "import ipywidgets as widgets\n",
    "\n",
    "button = widgets.Button(\n",
    "    description= 'click me',\n",
    "    height = '300px',\n",
    "    width = 500,\n",
    "    color = 'red')\n",
    "\n",
    "display(button)\n"
   ]
  },
  {
   "cell_type": "code",
   "execution_count": 1,
   "metadata": {},
   "outputs": [
    {
     "name": "stdout",
     "output_type": "stream",
     "text": [
      "Welcome to this simple library management system\n"
     ]
    },
    {
     "data": {
      "application/vnd.jupyter.widget-view+json": {
       "model_id": "fc06e65c922344b78b3b972a883e6236",
       "version_major": 2,
       "version_minor": 0
      },
      "text/plain": [
       "Box(children=(Button(description='User Login', style=ButtonStyle(button_color='lightgreen')), Button(button_st…"
      ]
     },
     "metadata": {},
     "output_type": "display_data"
    }
   ],
   "source": [
    "from IPython.display import clear_output, display\n",
    "import ipywidgets as widgets\n",
    "\n",
    "\n",
    "user_button = widgets.Button(\n",
    "    description='User Login')\n",
    "user_button.style.button_color = 'lightgreen'\n",
    "admin_button = widgets.Button(description= f'admin login'.title(), button_style='info')\n",
    "\n",
    "def register(e):\n",
    "    pass\n",
    "\n",
    "def login(e):\n",
    "    pass\n",
    "\n",
    "def user_login(e):\n",
    "    clear_output()\n",
    "    print('welcome to user login page')\n",
    "    new_user_button = widgets.Button(description='new user')\n",
    "    registered_user_button = widgets.Button(description='Registered user')\n",
    "    \n",
    "    display(new_user_button)\n",
    "    display(registered_user_button)\n",
    "    \n",
    "    new_user_button.on_click(register)\n",
    "    registered_user_button.on_click(login)\n",
    "\n",
    "    \n",
    "print('Welcome to this simple library management system')\n",
    "\n",
    "\n",
    "container= widgets.Box(children=[user_button, admin_button])\n",
    "\n",
    "display(container)\n",
    "\n",
    "user_button.on_click(user_login)\n"
   ]
  },
  {
   "cell_type": "code",
   "execution_count": null,
   "metadata": {},
   "outputs": [],
   "source": []
  }
 ],
 "metadata": {
  "kernelspec": {
   "display_name": "Python 3",
   "language": "python",
   "name": "python3"
  },
  "language_info": {
   "codemirror_mode": {
    "name": "ipython",
    "version": 3
   },
   "file_extension": ".py",
   "mimetype": "text/x-python",
   "name": "python",
   "nbconvert_exporter": "python",
   "pygments_lexer": "ipython3",
   "version": "3.7.6"
  }
 },
 "nbformat": 4,
 "nbformat_minor": 4
}
