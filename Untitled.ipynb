{
 "cells": [
  {
   "cell_type": "code",
   "execution_count": null,
   "metadata": {},
   "outputs": [],
   "source": [
    "st = 'Print only the words that start with s in this sentence'\n",
    "\n",
    "out = [word for word in st.split() if word[0] == 's']\n",
    "        \n",
    "out"
   ]
  },
  {
   "cell_type": "code",
   "execution_count": null,
   "metadata": {},
   "outputs": [],
   "source": [
    "wordA = 'dog'\n",
    "string= 'able is a dog'\n",
    "\n",
    "for word in string.split():\n",
    "    if word == wordA:\n",
    "        print('yes')\n",
    "    else:\n",
    "        print('nada')"
   ]
  },
  {
   "cell_type": "code",
   "execution_count": null,
   "metadata": {},
   "outputs": [],
   "source": [
    "x = [('a','b'),('c','d'),('e','f')]\n",
    "\n",
    "for a,b in x:\n",
    "    print(a + ':' + b)"
   ]
  },
  {
   "cell_type": "code",
   "execution_count": null,
   "metadata": {},
   "outputs": [],
   "source": [
    "string = 'hello'\n",
    "\n",
    "counter = -1\n",
    "for _ in string:\n",
    "    print(string[counter], end='')\n",
    "    counter -= 1\n",
    "    \n",
    "print('\\n'+string[::-1])"
   ]
  },
  {
   "cell_type": "code",
   "execution_count": null,
   "metadata": {},
   "outputs": [],
   "source": [
    "numbers = list(range(0,11))\n",
    "\n",
    "print([number for number in numbers if number % 2 == 0])"
   ]
  },
  {
   "cell_type": "code",
   "execution_count": null,
   "metadata": {},
   "outputs": [],
   "source": [
    "nums = list(range(1, 51))\n",
    "\n",
    "outsi = [num for num in nums if num % 3 == 0]\n",
    "print(outsi)"
   ]
  },
  {
   "cell_type": "code",
   "execution_count": null,
   "metadata": {},
   "outputs": [],
   "source": [
    "st = 'Print every word in this sentence that has an even number of letters'\n",
    "\n",
    "words = st.split()\n",
    "for word in words:\n",
    "    if len(word) % 2 == 0:\n",
    "        print(word) "
   ]
  },
  {
   "cell_type": "code",
   "execution_count": null,
   "metadata": {},
   "outputs": [],
   "source": [
    "numbers = list(range(1, 101))\n",
    "\n",
    "for number in numbers:\n",
    "    if number %3 == 0 and number %5 ==0:\n",
    "        print('FizzBuzz')\n",
    "    elif number % 3 == 0:\n",
    "        print('Fizz')\n",
    "    elif number % 5 == 0:\n",
    "        print('Buzz')\n",
    "    else:\n",
    "        print(number)"
   ]
  },
  {
   "cell_type": "code",
   "execution_count": null,
   "metadata": {},
   "outputs": [],
   "source": [
    "st = 'Create a list of the first letters of every word in this string'\n",
    "\n",
    "listeroo = [letter[0] for letter in st.split()]\n"
   ]
  },
  {
   "cell_type": "code",
   "execution_count": null,
   "metadata": {},
   "outputs": [],
   "source": [
    "print(\"\"\"\n",
    "lesser of two evens\n",
    "\"\"\")\n",
    "a = int(input('first number'))\n",
    "b = int(input('second number'))\n",
    "\n",
    "def lesser_of_two(*args):\n",
    "    if len(args) != 2:\n",
    "        error('proper number not entered')\n",
    "    else:\n",
    "        for num in args:\n",
    "            if num % 2 == 0:\n",
    "                pass\n",
    "            elif num % 2 != 0:\n",
    "                return max(args)\n",
    "            else:\n",
    "                return args\n",
    "        return max(args)\n",
    "    \n",
    "lesser_of_two(a,b)\n"
   ]
  },
  {
   "cell_type": "code",
   "execution_count": null,
   "metadata": {},
   "outputs": [],
   "source": [
    "def func(string):\n",
    "    words = string.split()\n",
    "#     return [word for word in words if words[0] == words[1]]\n",
    "    return words[0][0] == words[1][0]\n",
    "\n",
    "func('abebe blcha')"
   ]
  },
  {
   "cell_type": "code",
   "execution_count": null,
   "metadata": {},
   "outputs": [],
   "source": [
    "def func(name):\n",
    "    length = len(name)\n",
    "    return name[0].upper()+name[1:3]+ name[3].upper()+ name[4:]\n",
    "\n",
    "func('abebe')"
   ]
  },
  {
   "cell_type": "code",
   "execution_count": null,
   "metadata": {},
   "outputs": [],
   "source": [
    "while True:\n",
    "    inpu = []\n",
    "    inpo = input('enter number')\n",
    "    if inpo == 'd':\n",
    "        break\n",
    "    inpu.append(inpo)\n",
    "    \n",
    "def func(*args):\n",
    "    int(args)\n",
    "    for num in args:\n",
    "        if num == 0:\n",
    "            x.append(0)\n",
    "        elif num == 7:\n",
    "            x.append(7)\n",
    "            if x == [0,0,7]:\n",
    "                return \n",
    "            else: continue\n",
    "        else:\n",
    "            pass\n",
    "        \n",
    "func(0,0,7)\n"
   ]
  },
  {
   "cell_type": "code",
   "execution_count": null,
   "metadata": {},
   "outputs": [],
   "source": [
    "lissss = [0,1,2,3]"
   ]
  },
  {
   "cell_type": "code",
   "execution_count": 12,
   "metadata": {},
   "outputs": [
    {
     "data": {
      "text/plain": [
       "1"
      ]
     },
     "execution_count": 12,
     "metadata": {},
     "output_type": "execute_result"
    }
   ],
   "source": [
    "coos = ('a','b','c')\n",
    "\n",
    "coos.count('a')"
   ]
  },
  {
   "cell_type": "code",
   "execution_count": null,
   "metadata": {},
   "outputs": [],
   "source": [
    "numbers = list(range(1,10))\n",
    "\n",
    "for num in numbers:\n",
    "    print(num)"
   ]
  },
  {
   "cell_type": "code",
   "execution_count": null,
   "metadata": {},
   "outputs": [],
   "source": [
    "import sys\n",
    "\n",
    "def ask():\n",
    "    while True:\n",
    "        try:\n",
    "            number = int(input('Enter a number\\n'))\n",
    "            print(number ** 2)\n",
    "        except ValueError:\n",
    "            print('please enter integers only')\n",
    "        except:\n",
    "            print(f'unkown error: {sys.exc_info()}')\n",
    "        \n",
    "ask()"
   ]
  },
  {
   "cell_type": "code",
   "execution_count": 42,
   "metadata": {},
   "outputs": [
    {
     "data": {
      "application/vnd.jupyter.widget-view+json": {
       "model_id": "6e433327ac2648448b1c3c48d5e1f601",
       "version_major": 2,
       "version_minor": 0
      },
      "text/plain": [
       "Text(value='', description='username:')"
      ]
     },
     "metadata": {},
     "output_type": "display_data"
    },
    {
     "data": {
      "application/vnd.jupyter.widget-view+json": {
       "model_id": "4bffd282dbe04feea486b1629238e14f",
       "version_major": 2,
       "version_minor": 0
      },
      "text/plain": [
       "Text(value='', description='password:')"
      ]
     },
     "metadata": {},
     "output_type": "display_data"
    }
   ],
   "source": [
    "import ipywidgets as widgets\n",
    "\n",
    "username = widgets.Text(description = 'username:')\n",
    "display(username)\n",
    "\n",
    "password = widgets.Text(description = 'password:')\n",
    "display(password)\n",
    "\n",
    "def verify_user(e):\n",
    "    print(f' welcome {username.value}')\n",
    "\n",
    "\n",
    "if username.value and password.value:\n",
    "    username.on_submit(verify_user)"
   ]
  },
  {
   "cell_type": "code",
   "execution_count": 39,
   "metadata": {},
   "outputs": [
    {
     "name": "stdout",
     "output_type": "stream",
     "text": [
      "None\n",
      "[0, 1, 1, 2, 3, 4, 6, 8, 32, 54, 56, 63, 98]\n"
     ]
    }
   ],
   "source": [
    "liz = [0,1,54,63,32,4,3,2,1,6,8,98,56]\n",
    "\n",
    "popped_item = liz.sort()\n"
   ]
  }
 ],
 "metadata": {
  "kernelspec": {
   "display_name": "Python 3",
   "language": "python",
   "name": "python3"
  },
  "language_info": {
   "codemirror_mode": {
    "name": "ipython",
    "version": 3
   },
   "file_extension": ".py",
   "mimetype": "text/x-python",
   "name": "python",
   "nbconvert_exporter": "python",
   "pygments_lexer": "ipython3",
   "version": "3.7.6"
  }
 },
 "nbformat": 4,
 "nbformat_minor": 4
}
