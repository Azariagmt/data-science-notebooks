{
  "nbformat": 4,
  "nbformat_minor": 0,
  "metadata": {
    "colab": {
      "name": "Classification of Malware with PE headers.ipynb",
      "provenance": [],
      "collapsed_sections": [],
      "authorship_tag": "ABX9TyMjoaPyO6hwyJYxjS6zUQGs",
      "include_colab_link": true
    },
    "kernelspec": {
      "name": "python3",
      "display_name": "Python 3"
    }
  },
  "cells": [
    {
      "cell_type": "markdown",
      "metadata": {
        "id": "view-in-github",
        "colab_type": "text"
      },
      "source": [
        "<a href=\"https://colab.research.google.com/github/Azariagmt/jupyter-notebooks/blob/master/Classification_of_Malware_with_PE_headers.ipynb\" target=\"_parent\"><img src=\"https://colab.research.google.com/assets/colab-badge.svg\" alt=\"Open In Colab\"/></a>"
      ]
    },
    {
      "cell_type": "markdown",
      "metadata": {
        "id": "CuQGHnw0Ksqw"
      },
      "source": [
        "load dataset"
      ]
    },
    {
      "cell_type": "code",
      "metadata": {
        "id": "PsVHWuzSKmyY"
      },
      "source": [
        "import pandas as pd\n",
        "train_data = pd.read_csv(\"https://raw.githubusercontent.com/dphi-official/Datasets/master/clamp/train_set_label.csv\")"
      ],
      "execution_count": 1,
      "outputs": []
    },
    {
      "cell_type": "code",
      "metadata": {
        "colab": {
          "base_uri": "https://localhost:8080/",
          "height": 241
        },
        "id": "t2OWBqMJKvck",
        "outputId": "c73b04fa-1276-4e6b-bd9f-e322aaa6e0ec"
      },
      "source": [
        "print(train_data.shape)\n",
        "train_data.head()"
      ],
      "execution_count": 5,
      "outputs": [
        {
          "output_type": "stream",
          "text": [
            "(3888, 56)\n"
          ],
          "name": "stdout"
        },
        {
          "output_type": "execute_result",
          "data": {
            "text/html": [
              "<div>\n",
              "<style scoped>\n",
              "    .dataframe tbody tr th:only-of-type {\n",
              "        vertical-align: middle;\n",
              "    }\n",
              "\n",
              "    .dataframe tbody tr th {\n",
              "        vertical-align: top;\n",
              "    }\n",
              "\n",
              "    .dataframe thead th {\n",
              "        text-align: right;\n",
              "    }\n",
              "</style>\n",
              "<table border=\"1\" class=\"dataframe\">\n",
              "  <thead>\n",
              "    <tr style=\"text-align: right;\">\n",
              "      <th></th>\n",
              "      <th>e_magic</th>\n",
              "      <th>e_cblp</th>\n",
              "      <th>e_cp</th>\n",
              "      <th>e_crlc</th>\n",
              "      <th>e_cparhdr</th>\n",
              "      <th>e_minalloc</th>\n",
              "      <th>e_maxalloc</th>\n",
              "      <th>e_ss</th>\n",
              "      <th>e_sp</th>\n",
              "      <th>e_csum</th>\n",
              "      <th>e_ip</th>\n",
              "      <th>e_cs</th>\n",
              "      <th>e_lfarlc</th>\n",
              "      <th>e_ovno</th>\n",
              "      <th>e_res</th>\n",
              "      <th>e_oemid</th>\n",
              "      <th>e_oeminfo</th>\n",
              "      <th>e_res2</th>\n",
              "      <th>e_lfanew</th>\n",
              "      <th>Machine</th>\n",
              "      <th>NumberOfSections</th>\n",
              "      <th>CreationYear</th>\n",
              "      <th>PointerToSymbolTable</th>\n",
              "      <th>NumberOfSymbols</th>\n",
              "      <th>SizeOfOptionalHeader</th>\n",
              "      <th>Characteristics</th>\n",
              "      <th>Magic</th>\n",
              "      <th>MajorLinkerVersion</th>\n",
              "      <th>MinorLinkerVersion</th>\n",
              "      <th>SizeOfCode</th>\n",
              "      <th>SizeOfInitializedData</th>\n",
              "      <th>SizeOfUninitializedData</th>\n",
              "      <th>AddressOfEntryPoint</th>\n",
              "      <th>BaseOfCode</th>\n",
              "      <th>BaseOfData</th>\n",
              "      <th>ImageBase</th>\n",
              "      <th>SectionAlignment</th>\n",
              "      <th>FileAlignment</th>\n",
              "      <th>MajorOperatingSystemVersion</th>\n",
              "      <th>MinorOperatingSystemVersion</th>\n",
              "      <th>MajorImageVersion</th>\n",
              "      <th>MinorImageVersion</th>\n",
              "      <th>MajorSubsystemVersion</th>\n",
              "      <th>MinorSubsystemVersion</th>\n",
              "      <th>SizeOfImage</th>\n",
              "      <th>SizeOfHeaders</th>\n",
              "      <th>CheckSum</th>\n",
              "      <th>Subsystem</th>\n",
              "      <th>DllCharacteristics</th>\n",
              "      <th>SizeOfStackReserve</th>\n",
              "      <th>SizeOfStackCommit</th>\n",
              "      <th>SizeOfHeapReserve</th>\n",
              "      <th>SizeOfHeapCommit</th>\n",
              "      <th>LoaderFlags</th>\n",
              "      <th>NumberOfRvaAndSizes</th>\n",
              "      <th>class</th>\n",
              "    </tr>\n",
              "  </thead>\n",
              "  <tbody>\n",
              "    <tr>\n",
              "      <th>0</th>\n",
              "      <td>23117</td>\n",
              "      <td>144</td>\n",
              "      <td>3</td>\n",
              "      <td>0</td>\n",
              "      <td>4</td>\n",
              "      <td>0</td>\n",
              "      <td>65535</td>\n",
              "      <td>0</td>\n",
              "      <td>184</td>\n",
              "      <td>0</td>\n",
              "      <td>0</td>\n",
              "      <td>0</td>\n",
              "      <td>64</td>\n",
              "      <td>0</td>\n",
              "      <td>NaN</td>\n",
              "      <td>0</td>\n",
              "      <td>0</td>\n",
              "      <td>NaN</td>\n",
              "      <td>248</td>\n",
              "      <td>332</td>\n",
              "      <td>7</td>\n",
              "      <td>2011</td>\n",
              "      <td>0</td>\n",
              "      <td>0</td>\n",
              "      <td>224</td>\n",
              "      <td>258</td>\n",
              "      <td>267</td>\n",
              "      <td>9</td>\n",
              "      <td>0</td>\n",
              "      <td>0</td>\n",
              "      <td>98816</td>\n",
              "      <td>0</td>\n",
              "      <td>4816</td>\n",
              "      <td>4096</td>\n",
              "      <td>4096</td>\n",
              "      <td>4194304</td>\n",
              "      <td>4096</td>\n",
              "      <td>512</td>\n",
              "      <td>5</td>\n",
              "      <td>0</td>\n",
              "      <td>0</td>\n",
              "      <td>0</td>\n",
              "      <td>5</td>\n",
              "      <td>0</td>\n",
              "      <td>126976</td>\n",
              "      <td>1024</td>\n",
              "      <td>115397</td>\n",
              "      <td>2</td>\n",
              "      <td>33792</td>\n",
              "      <td>1048576</td>\n",
              "      <td>4096</td>\n",
              "      <td>1048576</td>\n",
              "      <td>4096</td>\n",
              "      <td>0</td>\n",
              "      <td>16</td>\n",
              "      <td>1</td>\n",
              "    </tr>\n",
              "    <tr>\n",
              "      <th>1</th>\n",
              "      <td>23117</td>\n",
              "      <td>144</td>\n",
              "      <td>3</td>\n",
              "      <td>0</td>\n",
              "      <td>4</td>\n",
              "      <td>0</td>\n",
              "      <td>65535</td>\n",
              "      <td>0</td>\n",
              "      <td>184</td>\n",
              "      <td>0</td>\n",
              "      <td>0</td>\n",
              "      <td>0</td>\n",
              "      <td>64</td>\n",
              "      <td>0</td>\n",
              "      <td>NaN</td>\n",
              "      <td>0</td>\n",
              "      <td>0</td>\n",
              "      <td>NaN</td>\n",
              "      <td>256</td>\n",
              "      <td>332</td>\n",
              "      <td>4</td>\n",
              "      <td>2009</td>\n",
              "      <td>0</td>\n",
              "      <td>0</td>\n",
              "      <td>224</td>\n",
              "      <td>271</td>\n",
              "      <td>267</td>\n",
              "      <td>3</td>\n",
              "      <td>6</td>\n",
              "      <td>29696</td>\n",
              "      <td>81920</td>\n",
              "      <td>0</td>\n",
              "      <td>23426</td>\n",
              "      <td>4096</td>\n",
              "      <td>40960</td>\n",
              "      <td>4194304</td>\n",
              "      <td>4096</td>\n",
              "      <td>512</td>\n",
              "      <td>4</td>\n",
              "      <td>0</td>\n",
              "      <td>0</td>\n",
              "      <td>0</td>\n",
              "      <td>4</td>\n",
              "      <td>0</td>\n",
              "      <td>122880</td>\n",
              "      <td>1536</td>\n",
              "      <td>0</td>\n",
              "      <td>2</td>\n",
              "      <td>0</td>\n",
              "      <td>10485760</td>\n",
              "      <td>40960</td>\n",
              "      <td>6291456</td>\n",
              "      <td>16384</td>\n",
              "      <td>0</td>\n",
              "      <td>16</td>\n",
              "      <td>1</td>\n",
              "    </tr>\n",
              "    <tr>\n",
              "      <th>2</th>\n",
              "      <td>23117</td>\n",
              "      <td>144</td>\n",
              "      <td>3</td>\n",
              "      <td>0</td>\n",
              "      <td>4</td>\n",
              "      <td>0</td>\n",
              "      <td>65535</td>\n",
              "      <td>0</td>\n",
              "      <td>184</td>\n",
              "      <td>0</td>\n",
              "      <td>0</td>\n",
              "      <td>0</td>\n",
              "      <td>64</td>\n",
              "      <td>0</td>\n",
              "      <td>NaN</td>\n",
              "      <td>0</td>\n",
              "      <td>0</td>\n",
              "      <td>NaN</td>\n",
              "      <td>256</td>\n",
              "      <td>332</td>\n",
              "      <td>5</td>\n",
              "      <td>2003</td>\n",
              "      <td>0</td>\n",
              "      <td>0</td>\n",
              "      <td>224</td>\n",
              "      <td>8462</td>\n",
              "      <td>267</td>\n",
              "      <td>7</td>\n",
              "      <td>10</td>\n",
              "      <td>52224</td>\n",
              "      <td>36352</td>\n",
              "      <td>0</td>\n",
              "      <td>50964</td>\n",
              "      <td>4096</td>\n",
              "      <td>57344</td>\n",
              "      <td>2081554432</td>\n",
              "      <td>4096</td>\n",
              "      <td>512</td>\n",
              "      <td>4</td>\n",
              "      <td>0</td>\n",
              "      <td>0</td>\n",
              "      <td>0</td>\n",
              "      <td>4</td>\n",
              "      <td>0</td>\n",
              "      <td>102400</td>\n",
              "      <td>1024</td>\n",
              "      <td>0</td>\n",
              "      <td>2</td>\n",
              "      <td>0</td>\n",
              "      <td>1048576</td>\n",
              "      <td>4096</td>\n",
              "      <td>1048576</td>\n",
              "      <td>4096</td>\n",
              "      <td>0</td>\n",
              "      <td>16</td>\n",
              "      <td>0</td>\n",
              "    </tr>\n",
              "    <tr>\n",
              "      <th>3</th>\n",
              "      <td>23117</td>\n",
              "      <td>144</td>\n",
              "      <td>3</td>\n",
              "      <td>0</td>\n",
              "      <td>4</td>\n",
              "      <td>0</td>\n",
              "      <td>65535</td>\n",
              "      <td>0</td>\n",
              "      <td>184</td>\n",
              "      <td>0</td>\n",
              "      <td>0</td>\n",
              "      <td>0</td>\n",
              "      <td>64</td>\n",
              "      <td>0</td>\n",
              "      <td>NaN</td>\n",
              "      <td>0</td>\n",
              "      <td>0</td>\n",
              "      <td>NaN</td>\n",
              "      <td>248</td>\n",
              "      <td>332</td>\n",
              "      <td>5</td>\n",
              "      <td>2012</td>\n",
              "      <td>0</td>\n",
              "      <td>0</td>\n",
              "      <td>224</td>\n",
              "      <td>258</td>\n",
              "      <td>267</td>\n",
              "      <td>10</td>\n",
              "      <td>10</td>\n",
              "      <td>77824</td>\n",
              "      <td>67072</td>\n",
              "      <td>0</td>\n",
              "      <td>78808</td>\n",
              "      <td>4096</td>\n",
              "      <td>81920</td>\n",
              "      <td>4194304</td>\n",
              "      <td>4096</td>\n",
              "      <td>512</td>\n",
              "      <td>6</td>\n",
              "      <td>2</td>\n",
              "      <td>6</td>\n",
              "      <td>2</td>\n",
              "      <td>6</td>\n",
              "      <td>0</td>\n",
              "      <td>155648</td>\n",
              "      <td>1024</td>\n",
              "      <td>142244</td>\n",
              "      <td>2</td>\n",
              "      <td>33088</td>\n",
              "      <td>262144</td>\n",
              "      <td>8192</td>\n",
              "      <td>1048576</td>\n",
              "      <td>4096</td>\n",
              "      <td>0</td>\n",
              "      <td>16</td>\n",
              "      <td>0</td>\n",
              "    </tr>\n",
              "    <tr>\n",
              "      <th>4</th>\n",
              "      <td>23117</td>\n",
              "      <td>144</td>\n",
              "      <td>3</td>\n",
              "      <td>0</td>\n",
              "      <td>4</td>\n",
              "      <td>0</td>\n",
              "      <td>65535</td>\n",
              "      <td>0</td>\n",
              "      <td>184</td>\n",
              "      <td>0</td>\n",
              "      <td>0</td>\n",
              "      <td>0</td>\n",
              "      <td>64</td>\n",
              "      <td>0</td>\n",
              "      <td>NaN</td>\n",
              "      <td>0</td>\n",
              "      <td>0</td>\n",
              "      <td>NaN</td>\n",
              "      <td>192</td>\n",
              "      <td>332</td>\n",
              "      <td>2</td>\n",
              "      <td>2009</td>\n",
              "      <td>0</td>\n",
              "      <td>0</td>\n",
              "      <td>224</td>\n",
              "      <td>8462</td>\n",
              "      <td>267</td>\n",
              "      <td>7</td>\n",
              "      <td>10</td>\n",
              "      <td>0</td>\n",
              "      <td>45056</td>\n",
              "      <td>0</td>\n",
              "      <td>0</td>\n",
              "      <td>4096</td>\n",
              "      <td>4096</td>\n",
              "      <td>268435456</td>\n",
              "      <td>4096</td>\n",
              "      <td>4096</td>\n",
              "      <td>4</td>\n",
              "      <td>0</td>\n",
              "      <td>0</td>\n",
              "      <td>0</td>\n",
              "      <td>4</td>\n",
              "      <td>0</td>\n",
              "      <td>49152</td>\n",
              "      <td>4096</td>\n",
              "      <td>60601</td>\n",
              "      <td>2</td>\n",
              "      <td>1024</td>\n",
              "      <td>1048576</td>\n",
              "      <td>4096</td>\n",
              "      <td>1048576</td>\n",
              "      <td>4096</td>\n",
              "      <td>0</td>\n",
              "      <td>16</td>\n",
              "      <td>0</td>\n",
              "    </tr>\n",
              "  </tbody>\n",
              "</table>\n",
              "</div>"
            ],
            "text/plain": [
              "   e_magic  e_cblp  e_cp  ...  LoaderFlags  NumberOfRvaAndSizes  class\n",
              "0    23117     144     3  ...            0                   16      1\n",
              "1    23117     144     3  ...            0                   16      1\n",
              "2    23117     144     3  ...            0                   16      0\n",
              "3    23117     144     3  ...            0                   16      0\n",
              "4    23117     144     3  ...            0                   16      0\n",
              "\n",
              "[5 rows x 56 columns]"
            ]
          },
          "metadata": {
            "tags": []
          },
          "execution_count": 5
        }
      ]
    },
    {
      "cell_type": "code",
      "metadata": {
        "colab": {
          "base_uri": "https://localhost:8080/"
        },
        "id": "lKCyrl5ZQe6b",
        "outputId": "35c105f4-8c30-4ad4-b92c-8a0992d1002e"
      },
      "source": [
        "train_data.dtypes"
      ],
      "execution_count": 14,
      "outputs": [
        {
          "output_type": "execute_result",
          "data": {
            "text/plain": [
              "e_magic                          int64\n",
              "e_cblp                           int64\n",
              "e_cp                             int64\n",
              "e_crlc                           int64\n",
              "e_cparhdr                        int64\n",
              "e_minalloc                       int64\n",
              "e_maxalloc                       int64\n",
              "e_ss                             int64\n",
              "e_sp                             int64\n",
              "e_csum                           int64\n",
              "e_ip                             int64\n",
              "e_cs                             int64\n",
              "e_lfarlc                         int64\n",
              "e_ovno                           int64\n",
              "e_res                          float64\n",
              "e_oemid                          int64\n",
              "e_oeminfo                        int64\n",
              "e_res2                         float64\n",
              "e_lfanew                         int64\n",
              "Machine                          int64\n",
              "NumberOfSections                 int64\n",
              "CreationYear                     int64\n",
              "PointerToSymbolTable             int64\n",
              "NumberOfSymbols                  int64\n",
              "SizeOfOptionalHeader             int64\n",
              "Characteristics                  int64\n",
              "Magic                            int64\n",
              "MajorLinkerVersion               int64\n",
              "MinorLinkerVersion               int64\n",
              "SizeOfCode                       int64\n",
              "SizeOfInitializedData            int64\n",
              "SizeOfUninitializedData          int64\n",
              "AddressOfEntryPoint              int64\n",
              "BaseOfCode                       int64\n",
              "BaseOfData                       int64\n",
              "ImageBase                        int64\n",
              "SectionAlignment                 int64\n",
              "FileAlignment                    int64\n",
              "MajorOperatingSystemVersion      int64\n",
              "MinorOperatingSystemVersion      int64\n",
              "MajorImageVersion                int64\n",
              "MinorImageVersion                int64\n",
              "MajorSubsystemVersion            int64\n",
              "MinorSubsystemVersion            int64\n",
              "SizeOfImage                      int64\n",
              "SizeOfHeaders                    int64\n",
              "CheckSum                         int64\n",
              "Subsystem                        int64\n",
              "DllCharacteristics               int64\n",
              "SizeOfStackReserve               int64\n",
              "SizeOfStackCommit                int64\n",
              "SizeOfHeapReserve                int64\n",
              "SizeOfHeapCommit                 int64\n",
              "LoaderFlags                      int64\n",
              "NumberOfRvaAndSizes              int64\n",
              "class                            int64\n",
              "dtype: object"
            ]
          },
          "metadata": {
            "tags": []
          },
          "execution_count": 14
        }
      ]
    },
    {
      "cell_type": "markdown",
      "metadata": {
        "id": "XQ6MhhCeQKOT"
      },
      "source": [
        "Split the data"
      ]
    },
    {
      "cell_type": "code",
      "metadata": {
        "id": "ZDK67ha5KxaY"
      },
      "source": [
        "X = train_data.drop(columns=['e_res', 'e_res2', 'class'])\n",
        "y = train_data['class']\n",
        "\n",
        "from sklearn.model_selection import train_test_split\n",
        "X_train, X_test, y_train, y_test = train_test_split(X,y, test_size = 0.3, random_state=101)"
      ],
      "execution_count": 15,
      "outputs": []
    },
    {
      "cell_type": "markdown",
      "metadata": {
        "id": "eO8IMethQMB2"
      },
      "source": [
        "Train a logistic regression model"
      ]
    },
    {
      "cell_type": "code",
      "metadata": {
        "colab": {
          "base_uri": "https://localhost:8080/"
        },
        "id": "MVPcLyBALWIL",
        "outputId": "1047e501-7592-4456-c57f-6d09dacda4e3"
      },
      "source": [
        "from sklearn.linear_model import LogisticRegression\n",
        "\n",
        "reg = 0.01\n",
        "\n",
        "# train a logistic regression model on the training set\n",
        "model = LogisticRegression(C=1/reg, solver=\"liblinear\").fit(X_train, y_train)\n",
        "print (model)"
      ],
      "execution_count": 16,
      "outputs": [
        {
          "output_type": "stream",
          "text": [
            "LogisticRegression(C=100.0, class_weight=None, dual=False, fit_intercept=True,\n",
            "                   intercept_scaling=1, l1_ratio=None, max_iter=100,\n",
            "                   multi_class='auto', n_jobs=None, penalty='l2',\n",
            "                   random_state=None, solver='liblinear', tol=0.0001, verbose=0,\n",
            "                   warm_start=False)\n"
          ],
          "name": "stdout"
        }
      ]
    },
    {
      "cell_type": "markdown",
      "metadata": {
        "id": "mHeNTjb3Rf-0"
      },
      "source": [
        "Make predictions"
      ]
    },
    {
      "cell_type": "code",
      "metadata": {
        "id": "w5fs457YQm-f"
      },
      "source": [
        "predictions = model.predict(X_test)"
      ],
      "execution_count": 17,
      "outputs": []
    },
    {
      "cell_type": "code",
      "metadata": {
        "colab": {
          "base_uri": "https://localhost:8080/"
        },
        "id": "ynQmRQdoRiZa",
        "outputId": "5d7d2f6c-cc8e-4ad6-c0c2-072d1f25f89e"
      },
      "source": [
        "from sklearn.metrics import classification_report\n",
        "print(classification_report(y_test, predictions))"
      ],
      "execution_count": 20,
      "outputs": [
        {
          "output_type": "stream",
          "text": [
            "              precision    recall  f1-score   support\n",
            "\n",
            "           0       0.94      0.82      0.87       582\n",
            "           1       0.84      0.95      0.89       585\n",
            "\n",
            "    accuracy                           0.88      1167\n",
            "   macro avg       0.89      0.88      0.88      1167\n",
            "weighted avg       0.89      0.88      0.88      1167\n",
            "\n"
          ],
          "name": "stdout"
        }
      ]
    },
    {
      "cell_type": "code",
      "metadata": {
        "colab": {
          "base_uri": "https://localhost:8080/"
        },
        "id": "NdegLDMNRut8",
        "outputId": "8a1e9371-c7f8-49a4-e75a-86c8703c7cad"
      },
      "source": [
        "from sklearn.metrics import confusion_matrix\n",
        "print(confusion_matrix(y_test, predictions))"
      ],
      "execution_count": 21,
      "outputs": [
        {
          "output_type": "stream",
          "text": [
            "[[475 107]\n",
            " [ 30 555]]\n"
          ],
          "name": "stdout"
        }
      ]
    },
    {
      "cell_type": "code",
      "metadata": {
        "colab": {
          "base_uri": "https://localhost:8080/",
          "height": 523
        },
        "id": "b8bcfTRsSKa9",
        "outputId": "7a19efc7-2282-4501-d02a-8f78d227357d"
      },
      "source": [
        "y_scores = model.predict_proba(X_test)\n",
        "print(y_scores)\n",
        "\n",
        "from sklearn.metrics import roc_curve\n",
        "from sklearn.metrics import confusion_matrix\n",
        "import matplotlib\n",
        "import matplotlib.pyplot as plt\n",
        "%matplotlib inline\n",
        "\n",
        "# calculate ROC curve\n",
        "fpr, tpr, thresholds = roc_curve(y_test, y_scores[:,1])\n",
        "\n",
        "# plot ROC curve\n",
        "fig = plt.figure(figsize=(6, 6))\n",
        "# Plot the diagonal 50% line\n",
        "plt.plot([0, 1], [0, 1], 'k--')\n",
        "# Plot the FPR and TPR achieved by our model\n",
        "plt.plot(fpr, tpr)\n",
        "plt.xlabel('False Positive Rate')\n",
        "plt.ylabel('True Positive Rate')\n",
        "plt.title('ROC Curve')\n",
        "plt.show()"
      ],
      "execution_count": 23,
      "outputs": [
        {
          "output_type": "stream",
          "text": [
            "[[1.19310752e-01 8.80689248e-01]\n",
            " [8.06461293e-01 1.93538707e-01]\n",
            " [9.99979537e-01 2.04630907e-05]\n",
            " ...\n",
            " [1.00000000e+00 5.77702295e-12]\n",
            " [1.04731378e-03 9.98952686e-01]\n",
            " [8.99465466e-01 1.00534534e-01]]\n"
          ],
          "name": "stdout"
        },
        {
          "output_type": "display_data",
          "data": {
            "image/png": "[encoded data removed]",
            "text/plain": [
              "<Figure size 432x432 with 1 Axes>"
            ]
          },
          "metadata": {
            "tags": [],
            "needs_background": "light"
          }
        }
      ]
    },
    {
      "cell_type": "code",
      "metadata": {
        "id": "2AfNN0boScc8"
      },
      "source": [
        ""
      ],
      "execution_count": null,
      "outputs": []
    }
  ]
}