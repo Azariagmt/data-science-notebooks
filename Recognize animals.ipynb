{
  "nbformat": 4,
  "nbformat_minor": 0,
  "metadata": {
    "colab": {
      "name": "trial_03 (1).ipynb",
      "provenance": []
    },
    "kernelspec": {
      "name": "python3",
      "language": "python",
      "display_name": "Python 3"
    },
    "accelerator": "TPU",
    "language_info": {
      "name": "python",
      "version": "3.6.9",
      "mimetype": "text/x-python",
      "codemirror_mode": {
        "name": "ipython",
        "version": 3
      },
      "pygments_lexer": "ipython3",
      "nbconvert_exporter": "python",
      "file_extension": ".py"
    },
    "kernel_info": {
      "name": "python3"
    },
    "nteract": {
      "version": "nteract-front-end@1.0.0"
    }
  },
  "cells": [
    {
      "cell_type": "code",
      "metadata": {
        "id": "rZmQl4spTnS1",
        "colab_type": "code",
        "gather": {
          "logged": 1600030615297
        },
        "colab": {}
      },
      "source": [
        "# from google_drive_downloader import GoogleDriveDownloader as gdd\n",
        "\n",
        "# gdd.download_file_from_google_drive(file_id='176E-pLhoxTgWsJ3MeoJQV_GXczIA6g8D',\n",
        "#                                     dest_path='/content/animals.zip',\n",
        "#                                     unzip=True)\n",
        "import tensorflow as tf\n",
        "import numpy as np\n",
        "import pandas as pd\n",
        "from tensorflow.keras import Sequential\n",
        "from tensorflow.keras import layers"
      ],
      "execution_count": null,
      "outputs": []
    },
    {
      "cell_type": "code",
      "metadata": {
        "id": "2C1dS3GIUCQJ",
        "colab_type": "code",
        "gather": {
          "logged": 1600030615662
        },
        "colab": {}
      },
      "source": [
        "IMG_SIZE = 224\n",
        "class_names = [ 'elefante' , 'farfalla' ,'mucca', 'pecora' ,'scoiatt']"
      ],
      "execution_count": null,
      "outputs": []
    },
    {
      "cell_type": "code",
      "metadata": {
        "id": "w6g67_lNUE6Y",
        "colab_type": "code",
        "gather": {
          "logged": 1600030616070
        },
        "colab": {
          "base_uri": "https://localhost:8080/",
          "height": 51
        },
        "outputId": "2ed0102b-787c-4049-af57-6a827d6104f0"
      },
      "source": [
        "train_datagen = tf.keras.preprocessing.image.ImageDataGenerator(rescale = 1./255., # rescaling\n",
        "                                   rotation_range = 40,  # for augmentation\n",
        "                                   width_shift_range = 0.2,\n",
        "                                   validation_split = 0.2,\n",
        "                                   height_shift_range = 0.2,\n",
        "                                   shear_range = 0.2,\n",
        "                                   zoom_range = 0.2,\n",
        "                                   horizontal_flip = True)\n",
        "\n",
        "val_datagen = tf.keras.preprocessing.image.ImageDataGenerator(rescale = 1.0/255.,validation_split = 0.2)\n",
        "\n",
        "test_datagen = tf.keras.preprocessing.image.ImageDataGenerator(rescale = 1.0/255.)\n",
        "\n",
        "train_generator = train_datagen.flow_from_directory(\"train\",\n",
        "                                                    batch_size = 32,\n",
        "                                                    subset=\"training\",\n",
        "                                                    shuffle=True,\n",
        "                                                    class_mode = 'categorical', \n",
        "                                                    target_size = (224, 224))\n",
        "\n",
        "\n",
        "test_generator = test_datagen.flow_from_directory(\"test1\",\n",
        "                                                    batch_size = 32,\n",
        "                                                    class_mode = None, \n",
        "                                                    shuffle=False,\n",
        "                                                    target_size = (224, 224))\n",
        "\n",
        "val_generator = val_datagen.flow_from_directory(\"train\",\n",
        "                                                subset = \"validation\",\n",
        "                                                    batch_size = 32,\n",
        "                                                    class_mode = 'categorical', \n",
        "                                                    target_size = (224, 224))"
      ],
      "execution_count": null,
      "outputs": [
        {
          "output_type": "stream",
          "text": [
            "Found 5113 images belonging to 5 classes.\n",
            "Found 910 images belonging to 1 classes.\n",
            "Found 1276 images belonging to 5 classes.\n"
          ],
          "name": "stdout"
        }
      ]
    },
    {
      "cell_type": "code",
      "metadata": {
        "id": "NSLGAmN6ULyB",
        "colab_type": "code",
        "gather": {
          "logged": 1600030620010
        },
        "colab": {
          "base_uri": "https://localhost:8080/",
          "height": 391
        },
        "outputId": "040a6549-bfe5-48e5-e10c-43a58cd572b0"
      },
      "source": [
        "INPUT_SHAPE = (224,224,3)\n",
        "\n",
        "\n",
        "from tensorflow.keras.applications.inception_v3 import InceptionV3\n",
        "base_model = InceptionV3(input_shape = INPUT_SHAPE, include_top = False, weights = 'imagenet')\n",
        "\n",
        "for layer in base_model.layers:\n",
        "    layer.trainable = True\n",
        "\n",
        "    \n",
        "#Augmenting the images\n",
        "data_augmentation = tf.keras.Sequential(\n",
        "    [\n",
        "        tf.keras.layers.experimental.preprocessing.RandomFlip(\"horizontal\"),\n",
        "        tf.keras.layers.experimental.preprocessing.RandomRotation(0.1),\n",
        "        tf.keras.layers.experimental.preprocessing.RandomZoom(0.2)\n",
        "    ]\n",
        ")\n",
        "# Method 1.2: This model is same as the above in 1.1\n",
        "#Sequential way of building models\n",
        "model = Sequential()\n",
        "model.add(data_augmentation)\n",
        "model.add(base_model)\n",
        "model.add(tf.keras.layers.Flatten())\n",
        "model.add(tf.keras.layers.experimental.preprocessing.Rescaling(1./255))\n",
        "model.add(tf.keras.layers.Dense(128,activation='relu'))\n",
        "model.add(tf.keras.layers.Dropout(0.2))\n",
        "model.add(tf.keras.layers.Dense(64,activation='relu'))\n",
        "model.add(tf.keras.layers.Dropout(0.2))\n",
        "model.add(tf.keras.layers.Dense(5,activation='softmax'))"
      ],
      "execution_count": null,
      "outputs": [
        {
          "output_type": "stream",
          "text": [
            "Downloading data from https://storage.googleapis.com/tensorflow/keras-applications/inception_v3/inception_v3_weights_tf_dim_ordering_tf_kernels_notop.h5\n",
            "87916544/87910968 [==============================] - 1s 0us/step\b\b\b\b\b\b\b\b\b\b\b\b\b\b\b\b\b\b\b\b\b\b\b\b\b\b\b\b\b\b\b\b\b\b\b\b\b\b\b\b\b\b\b\b\b\b\b\b\b\b\b\b\b\b\b\b\n"
          ],
          "name": "stdout"
        }
      ]
    },
    {
      "cell_type": "code",
      "metadata": {
        "id": "-05jtyvrUPX0",
        "colab_type": "code",
        "gather": {
          "logged": 1600030620430
        },
        "colab": {}
      },
      "source": [
        "from tensorflow.keras.optimizers import RMSprop\n",
        "\n",
        "model.compile(optimizer=RMSprop(lr=0.0001),loss='categorical_crossentropy',metrics=['accuracy'])"
      ],
      "execution_count": null,
      "outputs": []
    },
    {
      "cell_type": "code",
      "metadata": {
        "id": "Uc9T9fBpUSu3",
        "colab_type": "code",
        "gather": {
          "logged": 1600031784188
        },
        "colab": {
          "base_uri": "https://localhost:8080/",
          "height": 85
        },
        "outputId": "385a0b3c-20b0-4058-a9b0-f06f98f8c36f"
      },
      "source": [
        "es_callback = tf.keras.callbacks.EarlyStopping(monitor='val_loss', patience=2, \n",
        "                                               restore_best_weights=True,\n",
        "                                               verbose=1)\n",
        "model.fit(train_generator, steps_per_epoch=None, batch_size=100, shuffle=True,\n",
        "          validation_data= val_generator,\n",
        "          callbacks=[es_callback],\n",
        "          epochs = 10)\n"
      ],
      "execution_count": null,
      "outputs": [
        {
          "output_type": "stream",
          "text": [
            "Epoch 1/10\n",
            "160/160 [==============================] - 300s 2s/step - loss: 0.8301 - accuracy: 0.7970 - val_loss: 0.3376 - val_accuracy: 0.9279\b\b\b\b\b\b\b\b\b\b\b\b\b\b\b\b\b\b\b\b\b\b\b\b\b\b\b\b\b\b\b\b\b\b\b\b\b\b\b\b\b\n",
            "Epoch 2/10\n",
            "160/160 [==============================] - 276s 2s/step - loss: 0.2899 - accuracy: 0.9269 - val_loss: 0.1649 - val_accuracy: 0.9655\b\b\b\b\b\b\b\b\b\b\b\b\b\b\b\b\b\b\b\b\b\b\b\b\b\b\b\b\b\b\b\b\b\b\b\b\b\b\b\b\b\n",
            "Epoch 3/10\n",
            "160/160 [==============================] - 273s 2s/step - loss: 0.2031 - accuracy: 0.9392 - val_loss: 0.2042 - val_accuracy: 0.9522\b\b\b\b\b\b\b\b\b\b\b\b\b\b\b\b\b\b\b\b\b\b\b\b\b\b\b\b\b\b\b\b\b\b\b\b\b\b\b\b\b\n",
            "Epoch 4/10\n",
            "160/160 [==============================] - ETA: 0s - loss: 0.1676 - accuracy: 0.9478Restoring model weights from the end of the best epoch.\b\b\b\b\b\b\b\b\b\b\b\b\b\b\b\b\b\b\b\b\b\b\b\b\b\b\b\b\b\b\b\b\b\n",
            "160/160 [==============================] - 292s 2s/step - loss: 0.1676 - accuracy: 0.9478 - val_loss: 0.2087 - val_accuracy: 0.9647\n",
            "Epoch 00004: early stopping\n"
          ],
          "name": "stdout"
        },
        {
          "output_type": "execute_result",
          "data": {
            "text/plain": [
              "<tensorflow.python.keras.callbacks.History at 0x7f61f8262908>"
            ]
          },
          "metadata": {
            "tags": []
          },
          "execution_count": 18
        }
      ]
    },
    {
      "cell_type": "code",
      "metadata": {
        "id": "4FTt_UmAVNdm",
        "colab_type": "code",
        "gather": {
          "logged": 1600031790472
        },
        "colab": {}
      },
      "source": [
        "model.save('trial_03_01.h5')"
      ],
      "execution_count": null,
      "outputs": []
    },
    {
      "cell_type": "code",
      "metadata": {
        "id": "MijrZvksVlIM",
        "colab_type": "code",
        "gather": {
          "logged": 1600031835132
        },
        "colab": {},
        "outputId": "5ff53924-dfac-4743-dc5b-c2cd35dda9a2"
      },
      "source": [
        "import pandas as pd\n",
        "import numpy as np\n",
        "test_generator.reset()\n",
        "preds = model.predict(test_generator)\n",
        "#if using softmax activation on output layer\n",
        "predicted_class_indices  = np.argmax(preds,axis=1)\n",
        "\n",
        "labels = (train_generator.class_indices)\n",
        "labels = dict((v,k) for k,v in labels.items())\n",
        "predictions = [labels[k] for k in predicted_class_indices]\n",
        "\n",
        "filenames=test_generator.filenames\n",
        "results=pd.DataFrame({\"Filename\":filenames,\n",
        "                      \"Predictions\":predictions})\n",
        "\n",
        "df = pd.read_csv('Testing_set_animals.csv')\n",
        "\n",
        "# results = results.set_index('Filename')\n",
        "# results = results.reindex(index=df['filename'])\n",
        "# results = results.reset_index()\n",
        "\n",
        "results=pd.DataFrame({\"Filename\":filenames,\n",
        "                      \"Predictions\":predictions})\n",
        "\n",
        "print(results.head())\n",
        "results['Predictions'] = '\\'\\'' + results['Predictions'].astype(str) + '\\''\n",
        "results.sort_values(by = 'Filename', axis=0, inplace=True)\n",
        "results.head()\n",
        "\n",
        "\n",
        "results.to_csv('trial_003_01_02.csv')"
      ],
      "execution_count": null,
      "outputs": [
        {
          "output_type": "stream",
          "text": [
            "                                   Filename       Predictions\n",
            "0  test/OIP--0Yr2a_yg2hs5QgCoHAOnAHaLJ.jpeg  scoiattolo_train\n",
            "1  test/OIP--2DLJjX4d5SG0eF_EXsO9AHaEk.jpeg  scoiattolo_train\n",
            "2  test/OIP--2ix__438O7A-yHzROPhGwHaFj.jpeg    elefante_train\n",
            "3  test/OIP-00qwuq8LDwY8bqltA0QfzwHaLF.jpeg  scoiattolo_train\n",
            "4  test/OIP-01deWMs3t2fSlsMMrJhQawHaFs.jpeg      pecora_train\n"
          ],
          "name": "stdout"
        }
      ]
    }
  ]
}