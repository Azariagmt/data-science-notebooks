{
  "nbformat": 4,
  "nbformat_minor": 0,
  "metadata": {
    "colab": {
      "name": "Breast cancer detection.ipynb",
      "provenance": [],
      "authorship_tag": "ABX9TyM4bGbu5o/TNPfsoKJ1Fl2V",
      "include_colab_link": true
    },
    "kernelspec": {
      "name": "python3",
      "display_name": "Python 3"
    }
  },
  "cells": [
    {
      "cell_type": "markdown",
      "metadata": {
        "id": "view-in-github",
        "colab_type": "text"
      },
      "source": [
        "<a href=\"https://colab.research.google.com/github/Azariagmt/data-science-notebooks/blob/master/Breast_cancer_detection.ipynb\" target=\"_parent\"><img src=\"https://colab.research.google.com/assets/colab-badge.svg\" alt=\"Open In Colab\"/></a>"
      ]
    },
    {
      "cell_type": "markdown",
      "metadata": {
        "id": "qSETUXw7GGrp"
      },
      "source": [
        "\n",
        "**Objective:** to determine if the cancer is Malignant or Benign."
      ]
    },
    {
      "cell_type": "code",
      "metadata": {
        "colab": {
          "base_uri": "https://localhost:8080/",
          "height": 272
        },
        "id": "Pvz0oRM9F8QN",
        "outputId": "1e542b48-8033-43b7-e7a7-cce3cc62742c"
      },
      "source": [
        "import pandas as pd\n",
        "breast_cancer_data = pd.read_csv('https://raw.githubusercontent.com/dphi-official/Datasets/master/breast_cancer/Training_set_breastcancer.csv', index_col='id')\n",
        "df_with_id =  pd.read_csv('https://raw.githubusercontent.com/dphi-official/Datasets/master/breast_cancer/Training_set_breastcancer.csv')\n",
        "data = breast_cancer_data\n",
        "data.head()"
      ],
      "execution_count": 43,
      "outputs": [
        {
          "output_type": "execute_result",
          "data": {
            "text/html": [
              "<div>\n",
              "<style scoped>\n",
              "    .dataframe tbody tr th:only-of-type {\n",
              "        vertical-align: middle;\n",
              "    }\n",
              "\n",
              "    .dataframe tbody tr th {\n",
              "        vertical-align: top;\n",
              "    }\n",
              "\n",
              "    .dataframe thead th {\n",
              "        text-align: right;\n",
              "    }\n",
              "</style>\n",
              "<table border=\"1\" class=\"dataframe\">\n",
              "  <thead>\n",
              "    <tr style=\"text-align: right;\">\n",
              "      <th></th>\n",
              "      <th>radius_mean</th>\n",
              "      <th>texture_mean</th>\n",
              "      <th>perimeter_mean</th>\n",
              "      <th>area_mean</th>\n",
              "      <th>smoothness_mean</th>\n",
              "      <th>compactness_mean</th>\n",
              "      <th>concavity_mean</th>\n",
              "      <th>concave points_mean</th>\n",
              "      <th>symmetry_mean</th>\n",
              "      <th>fractal_dimension_mean</th>\n",
              "      <th>radius_se</th>\n",
              "      <th>texture_se</th>\n",
              "      <th>perimeter_se</th>\n",
              "      <th>area_se</th>\n",
              "      <th>smoothness_se</th>\n",
              "      <th>compactness_se</th>\n",
              "      <th>concavity_se</th>\n",
              "      <th>concave points_se</th>\n",
              "      <th>symmetry_se</th>\n",
              "      <th>fractal_dimension_se</th>\n",
              "      <th>radius_worst</th>\n",
              "      <th>texture_worst</th>\n",
              "      <th>perimeter_worst</th>\n",
              "      <th>area_worst</th>\n",
              "      <th>smoothness_worst</th>\n",
              "      <th>compactness_worst</th>\n",
              "      <th>concavity_worst</th>\n",
              "      <th>concave points_worst</th>\n",
              "      <th>symmetry_worst</th>\n",
              "      <th>fractal_dimension_worst</th>\n",
              "      <th>diagnosis</th>\n",
              "    </tr>\n",
              "    <tr>\n",
              "      <th>id</th>\n",
              "      <th></th>\n",
              "      <th></th>\n",
              "      <th></th>\n",
              "      <th></th>\n",
              "      <th></th>\n",
              "      <th></th>\n",
              "      <th></th>\n",
              "      <th></th>\n",
              "      <th></th>\n",
              "      <th></th>\n",
              "      <th></th>\n",
              "      <th></th>\n",
              "      <th></th>\n",
              "      <th></th>\n",
              "      <th></th>\n",
              "      <th></th>\n",
              "      <th></th>\n",
              "      <th></th>\n",
              "      <th></th>\n",
              "      <th></th>\n",
              "      <th></th>\n",
              "      <th></th>\n",
              "      <th></th>\n",
              "      <th></th>\n",
              "      <th></th>\n",
              "      <th></th>\n",
              "      <th></th>\n",
              "      <th></th>\n",
              "      <th></th>\n",
              "      <th></th>\n",
              "      <th></th>\n",
              "    </tr>\n",
              "  </thead>\n",
              "  <tbody>\n",
              "    <tr>\n",
              "      <th>914102</th>\n",
              "      <td>13.16</td>\n",
              "      <td>20.54</td>\n",
              "      <td>84.06</td>\n",
              "      <td>538.7</td>\n",
              "      <td>0.07335</td>\n",
              "      <td>0.05275</td>\n",
              "      <td>0.01800</td>\n",
              "      <td>0.01256</td>\n",
              "      <td>0.1713</td>\n",
              "      <td>0.05888</td>\n",
              "      <td>0.3237</td>\n",
              "      <td>1.473</td>\n",
              "      <td>2.326</td>\n",
              "      <td>26.07</td>\n",
              "      <td>0.007802</td>\n",
              "      <td>0.02052</td>\n",
              "      <td>0.01341</td>\n",
              "      <td>0.005564</td>\n",
              "      <td>0.02086</td>\n",
              "      <td>0.002701</td>\n",
              "      <td>14.50</td>\n",
              "      <td>28.46</td>\n",
              "      <td>95.29</td>\n",
              "      <td>648.3</td>\n",
              "      <td>0.1118</td>\n",
              "      <td>0.1646</td>\n",
              "      <td>0.07698</td>\n",
              "      <td>0.04195</td>\n",
              "      <td>0.2687</td>\n",
              "      <td>0.07429</td>\n",
              "      <td>B</td>\n",
              "    </tr>\n",
              "    <tr>\n",
              "      <th>91858</th>\n",
              "      <td>11.75</td>\n",
              "      <td>17.56</td>\n",
              "      <td>75.89</td>\n",
              "      <td>422.9</td>\n",
              "      <td>0.10730</td>\n",
              "      <td>0.09713</td>\n",
              "      <td>0.05282</td>\n",
              "      <td>0.04440</td>\n",
              "      <td>0.1598</td>\n",
              "      <td>0.06677</td>\n",
              "      <td>0.4384</td>\n",
              "      <td>1.907</td>\n",
              "      <td>3.149</td>\n",
              "      <td>30.66</td>\n",
              "      <td>0.006587</td>\n",
              "      <td>0.01815</td>\n",
              "      <td>0.01737</td>\n",
              "      <td>0.013160</td>\n",
              "      <td>0.01835</td>\n",
              "      <td>0.002318</td>\n",
              "      <td>13.50</td>\n",
              "      <td>27.98</td>\n",
              "      <td>88.52</td>\n",
              "      <td>552.3</td>\n",
              "      <td>0.1349</td>\n",
              "      <td>0.1854</td>\n",
              "      <td>0.13660</td>\n",
              "      <td>0.10100</td>\n",
              "      <td>0.2478</td>\n",
              "      <td>0.07757</td>\n",
              "      <td>B</td>\n",
              "    </tr>\n",
              "    <tr>\n",
              "      <th>88466802</th>\n",
              "      <td>10.65</td>\n",
              "      <td>25.22</td>\n",
              "      <td>68.01</td>\n",
              "      <td>347.0</td>\n",
              "      <td>0.09657</td>\n",
              "      <td>0.07234</td>\n",
              "      <td>0.02379</td>\n",
              "      <td>0.01615</td>\n",
              "      <td>0.1897</td>\n",
              "      <td>0.06329</td>\n",
              "      <td>0.2497</td>\n",
              "      <td>1.493</td>\n",
              "      <td>1.497</td>\n",
              "      <td>16.64</td>\n",
              "      <td>0.007189</td>\n",
              "      <td>0.01035</td>\n",
              "      <td>0.01081</td>\n",
              "      <td>0.006245</td>\n",
              "      <td>0.02158</td>\n",
              "      <td>0.002619</td>\n",
              "      <td>12.25</td>\n",
              "      <td>35.19</td>\n",
              "      <td>77.98</td>\n",
              "      <td>455.7</td>\n",
              "      <td>0.1499</td>\n",
              "      <td>0.1398</td>\n",
              "      <td>0.11250</td>\n",
              "      <td>0.06136</td>\n",
              "      <td>0.3409</td>\n",
              "      <td>0.08147</td>\n",
              "      <td>B</td>\n",
              "    </tr>\n",
              "    <tr>\n",
              "      <th>9111843</th>\n",
              "      <td>12.00</td>\n",
              "      <td>28.23</td>\n",
              "      <td>76.77</td>\n",
              "      <td>442.5</td>\n",
              "      <td>0.08437</td>\n",
              "      <td>0.06450</td>\n",
              "      <td>0.04055</td>\n",
              "      <td>0.01945</td>\n",
              "      <td>0.1615</td>\n",
              "      <td>0.06104</td>\n",
              "      <td>0.1912</td>\n",
              "      <td>1.705</td>\n",
              "      <td>1.516</td>\n",
              "      <td>13.86</td>\n",
              "      <td>0.007334</td>\n",
              "      <td>0.02589</td>\n",
              "      <td>0.02941</td>\n",
              "      <td>0.009166</td>\n",
              "      <td>0.01745</td>\n",
              "      <td>0.004302</td>\n",
              "      <td>13.09</td>\n",
              "      <td>37.88</td>\n",
              "      <td>85.07</td>\n",
              "      <td>523.7</td>\n",
              "      <td>0.1208</td>\n",
              "      <td>0.1856</td>\n",
              "      <td>0.18110</td>\n",
              "      <td>0.07116</td>\n",
              "      <td>0.2447</td>\n",
              "      <td>0.08194</td>\n",
              "      <td>B</td>\n",
              "    </tr>\n",
              "    <tr>\n",
              "      <th>84862001</th>\n",
              "      <td>16.13</td>\n",
              "      <td>20.68</td>\n",
              "      <td>108.10</td>\n",
              "      <td>798.8</td>\n",
              "      <td>0.11700</td>\n",
              "      <td>0.20220</td>\n",
              "      <td>0.17220</td>\n",
              "      <td>0.10280</td>\n",
              "      <td>0.2164</td>\n",
              "      <td>0.07356</td>\n",
              "      <td>0.5692</td>\n",
              "      <td>1.073</td>\n",
              "      <td>3.854</td>\n",
              "      <td>54.18</td>\n",
              "      <td>0.007026</td>\n",
              "      <td>0.02501</td>\n",
              "      <td>0.03188</td>\n",
              "      <td>0.012970</td>\n",
              "      <td>0.01689</td>\n",
              "      <td>0.004142</td>\n",
              "      <td>20.96</td>\n",
              "      <td>31.48</td>\n",
              "      <td>136.80</td>\n",
              "      <td>1315.0</td>\n",
              "      <td>0.1789</td>\n",
              "      <td>0.4233</td>\n",
              "      <td>0.47840</td>\n",
              "      <td>0.20730</td>\n",
              "      <td>0.3706</td>\n",
              "      <td>0.11420</td>\n",
              "      <td>M</td>\n",
              "    </tr>\n",
              "  </tbody>\n",
              "</table>\n",
              "</div>"
            ],
            "text/plain": [
              "          radius_mean  texture_mean  ...  fractal_dimension_worst  diagnosis\n",
              "id                                   ...                                    \n",
              "914102          13.16         20.54  ...                  0.07429          B\n",
              "91858           11.75         17.56  ...                  0.07757          B\n",
              "88466802        10.65         25.22  ...                  0.08147          B\n",
              "9111843         12.00         28.23  ...                  0.08194          B\n",
              "84862001        16.13         20.68  ...                  0.11420          M\n",
              "\n",
              "[5 rows x 31 columns]"
            ]
          },
          "metadata": {
            "tags": []
          },
          "execution_count": 43
        }
      ]
    },
    {
      "cell_type": "code",
      "metadata": {
        "id": "05nF5_DoGEhV"
      },
      "source": [
        "X = data.drop('diagnosis', axis=1)\n",
        "y = data['diagnosis']"
      ],
      "execution_count": 44,
      "outputs": []
    },
    {
      "cell_type": "code",
      "metadata": {
        "id": "4F7jbDC9IQ9S"
      },
      "source": [
        "from sklearn.compose import ColumnTransformer\n",
        "from sklearn.pipeline import Pipeline\n",
        "from sklearn.preprocessing import StandardScaler, OneHotEncoder , LabelEncoder\n",
        "from sklearn.linear_model import LogisticRegression\n",
        "import numpy as np\n",
        "\n",
        "le = LabelEncoder()\n",
        "y = le.fit_transform(y)"
      ],
      "execution_count": 45,
      "outputs": []
    },
    {
      "cell_type": "code",
      "metadata": {
        "colab": {
          "base_uri": "https://localhost:8080/"
        },
        "id": "J3KC6bO3IoFa",
        "outputId": "432b8d35-e01f-4c84-9d16-ec8b6c206e61"
      },
      "source": [
        "y = pd.Series(data=y, name='diagnosis', index = list(df_with_id['id']))\n",
        "y"
      ],
      "execution_count": 46,
      "outputs": [
        {
          "output_type": "execute_result",
          "data": {
            "text/plain": [
              "914102      0\n",
              "91858       0\n",
              "88466802    0\n",
              "9111843     0\n",
              "84862001    1\n",
              "           ..\n",
              "86730502    1\n",
              "8712289     1\n",
              "845636      1\n",
              "903483      0\n",
              "851509      1\n",
              "Name: diagnosis, Length: 398, dtype: int64"
            ]
          },
          "metadata": {
            "tags": []
          },
          "execution_count": 46
        }
      ]
    },
    {
      "cell_type": "code",
      "metadata": {
        "id": "MKRPHhbYHVvk"
      },
      "source": [
        "from sklearn.model_selection import train_test_split\n",
        "X_train, X_test, y_train, y_test = train_test_split(X, y, test_size=0.3, random_state= 101)"
      ],
      "execution_count": 47,
      "outputs": []
    },
    {
      "cell_type": "code",
      "metadata": {
        "colab": {
          "base_uri": "https://localhost:8080/"
        },
        "id": "iA59qnGyGb1W",
        "outputId": "0c2aa1b5-cc05-42d3-8076-030ab85c3f54"
      },
      "source": [
        "# Define preprocessing for numeric columns (normalize them so they're on the same scale)\n",
        "numeric_features = [x for x in range(30)]\n",
        "numeric_transformer = Pipeline(steps=[\n",
        "    ('scaler', StandardScaler())])\n",
        "\n",
        "# Combine preprocessing steps\n",
        "preprocessor = ColumnTransformer(\n",
        "    transformers=[\n",
        "        ('num', numeric_transformer, numeric_features)])\n",
        "\n",
        "# Create preprocessing and training pipeline\n",
        "reg = 0.01\n",
        "pipeline = Pipeline(steps=[('preprocessor', preprocessor),\n",
        "                           ('logregressor', LogisticRegression(C=1/reg, solver=\"liblinear\"))])\n",
        "\n",
        "\n",
        "# fit the pipeline to train a logistic regression model on the training set\n",
        "model = pipeline.fit(X_train, (y_train))\n",
        "print (model)"
      ],
      "execution_count": 55,
      "outputs": [
        {
          "output_type": "stream",
          "text": [
            "Pipeline(memory=None,\n",
            "         steps=[('preprocessor',\n",
            "                 ColumnTransformer(n_jobs=None, remainder='drop',\n",
            "                                   sparse_threshold=0.3,\n",
            "                                   transformer_weights=None,\n",
            "                                   transformers=[('num',\n",
            "                                                  Pipeline(memory=None,\n",
            "                                                           steps=[('scaler',\n",
            "                                                                   StandardScaler(copy=True,\n",
            "                                                                                  with_mean=True,\n",
            "                                                                                  with_std=True))],\n",
            "                                                           verbose=False),\n",
            "                                                  [0, 1, 2, 3, 4, 5, 6, 7, 8, 9,\n",
            "                                                   10, 11, 12, 13, 14, 15, 16,\n",
            "                                                   17, 18, 19, 20, 21, 22, 23,\n",
            "                                                   24, 25, 26, 27, 28, 29])],\n",
            "                                   verbose=False)),\n",
            "                ('logregressor',\n",
            "                 LogisticRegression(C=100.0, class_weight=None, dual=False,\n",
            "                                    fit_intercept=True, intercept_scaling=1,\n",
            "                                    l1_ratio=None, max_iter=100,\n",
            "                                    multi_class='auto', n_jobs=None,\n",
            "                                    penalty='l2', random_state=None,\n",
            "                                    solver='liblinear', tol=0.0001, verbose=0,\n",
            "                                    warm_start=False))],\n",
            "         verbose=False)\n"
          ],
          "name": "stdout"
        }
      ]
    },
    {
      "cell_type": "code",
      "metadata": {
        "id": "zcAyDsKRLWDD"
      },
      "source": [
        "def evaluate():\n",
        "  predictions = model.predict(X_test)\n",
        "  y_scores = model.predict_proba(X_test)\n",
        "  cm = confusion_matrix(y_test, predictions)\n",
        "  print ('Confusion Matrix:\\n',cm, '\\n')\n",
        "  print('Accuracy:', accuracy_score(y_test, predictions))\n",
        "  print(\"Overall Precision:\",precision_score(y_test, predictions))\n",
        "  print(\"Overall Recall:\",recall_score(y_test, predictions))\n",
        "  auc = roc_auc_score(y_test,y_scores[:,1])\n",
        "  print('\\nAUC: ' + str(auc))\n",
        "\n",
        "  # calculate ROC curve\n",
        "  fpr, tpr, thresholds = roc_curve(y_test, y_scores[:,1])\n",
        "\n",
        "  # plot ROC curve\n",
        "  fig = plt.figure(figsize=(6, 6))\n",
        "  # Plot the diagonal 50% line\n",
        "  plt.plot([0, 1], [0, 1], 'k--')\n",
        "  # Plot the FPR and TPR achieved by our model\n",
        "  plt.plot(fpr, tpr)\n",
        "  plt.xlabel('False Positive Rate')\n",
        "  plt.ylabel('True Positive Rate')\n",
        "  plt.title('ROC Curve')\n",
        "  plt.show()"
      ],
      "execution_count": 56,
      "outputs": []
    },
    {
      "cell_type": "code",
      "metadata": {
        "colab": {
          "base_uri": "https://localhost:8080/",
          "height": 557
        },
        "id": "MN62-bwxMUnJ",
        "outputId": "6ffc82ac-bfac-48c3-e8b9-a5b8f72244c3"
      },
      "source": [
        "evaluate()"
      ],
      "execution_count": 57,
      "outputs": [
        {
          "output_type": "stream",
          "text": [
            "Confusion Matrix:\n",
            " [[71  6]\n",
            " [ 6 37]] \n",
            "\n",
            "Accuracy: 0.9\n",
            "Overall Precision: 0.8604651162790697\n",
            "Overall Recall: 0.8604651162790697\n",
            "\n",
            "AUC: 0.9679855028692238\n"
          ],
          "name": "stdout"
        },
        {
          "output_type": "display_data",
          "data": {
            "image/png": "[encoded data removed]",
            "text/plain": [
              "<Figure size 432x432 with 1 Axes>"
            ]
          },
          "metadata": {
            "tags": [],
            "needs_background": "light"
          }
        }
      ]
    },
    {
      "cell_type": "code",
      "metadata": {
        "colab": {
          "base_uri": "https://localhost:8080/"
        },
        "id": "zGX7mEDSLcnc",
        "outputId": "b1eb2f8f-cfb1-4d57-e541-b985c50b3bcc"
      },
      "source": [
        "from sklearn.ensemble import RandomForestClassifier\n",
        "\n",
        "# Create preprocessing and training pipeline\n",
        "pipeline = Pipeline(steps=[('preprocessor', preprocessor),\n",
        "                           ('logregressor', RandomForestClassifier(n_estimators=100))])\n",
        "\n",
        "# fit the pipeline to train a random forest model on the training set\n",
        "model = pipeline.fit(X_train, (y_train))\n",
        "print (model)"
      ],
      "execution_count": 58,
      "outputs": [
        {
          "output_type": "stream",
          "text": [
            "Pipeline(memory=None,\n",
            "         steps=[('preprocessor',\n",
            "                 ColumnTransformer(n_jobs=None, remainder='drop',\n",
            "                                   sparse_threshold=0.3,\n",
            "                                   transformer_weights=None,\n",
            "                                   transformers=[('num',\n",
            "                                                  Pipeline(memory=None,\n",
            "                                                           steps=[('scaler',\n",
            "                                                                   StandardScaler(copy=True,\n",
            "                                                                                  with_mean=True,\n",
            "                                                                                  with_std=True))],\n",
            "                                                           verbose=False),\n",
            "                                                  [0, 1, 2, 3, 4, 5, 6, 7, 8, 9,\n",
            "                                                   10, 11, 12, 13, 14, 15, 16,\n",
            "                                                   17, 18, 19, 20, 21, 22, 23,\n",
            "                                                   24, 25, 26, 27, 28, 29])...\n",
            "                 RandomForestClassifier(bootstrap=True, ccp_alpha=0.0,\n",
            "                                        class_weight=None, criterion='gini',\n",
            "                                        max_depth=None, max_features='auto',\n",
            "                                        max_leaf_nodes=None, max_samples=None,\n",
            "                                        min_impurity_decrease=0.0,\n",
            "                                        min_impurity_split=None,\n",
            "                                        min_samples_leaf=1, min_samples_split=2,\n",
            "                                        min_weight_fraction_leaf=0.0,\n",
            "                                        n_estimators=100, n_jobs=None,\n",
            "                                        oob_score=False, random_state=None,\n",
            "                                        verbose=0, warm_start=False))],\n",
            "         verbose=False)\n"
          ],
          "name": "stdout"
        }
      ]
    },
    {
      "cell_type": "code",
      "metadata": {
        "colab": {
          "base_uri": "https://localhost:8080/",
          "height": 557
        },
        "id": "f2CFyONMLvsj",
        "outputId": "c23bf452-071a-46db-dbc7-5f8b8c782e2a"
      },
      "source": [
        "evaluate()"
      ],
      "execution_count": 59,
      "outputs": [
        {
          "output_type": "stream",
          "text": [
            "Confusion Matrix:\n",
            " [[74  3]\n",
            " [ 4 39]] \n",
            "\n",
            "Accuracy: 0.9416666666666667\n",
            "Overall Precision: 0.9285714285714286\n",
            "Overall Recall: 0.9069767441860465\n",
            "\n",
            "AUC: 0.9916943521594684\n"
          ],
          "name": "stdout"
        },
        {
          "output_type": "display_data",
          "data": {
            "image/png": "[encoded data removed]",
            "text/plain": [
              "<Figure size 432x432 with 1 Axes>"
            ]
          },
          "metadata": {
            "tags": [],
            "needs_background": "light"
          }
        }
      ]
    }
  ]
}