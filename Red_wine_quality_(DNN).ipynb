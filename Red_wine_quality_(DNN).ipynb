{
  "nbformat": 4,
  "nbformat_minor": 0,
  "metadata": {
    "colab": {
      "name": "Red wine quality (DNN).ipynb",
      "provenance": [],
      "collapsed_sections": [],
      "authorship_tag": "ABX9TyNku1T1BcL0/kc20EBkgIuG",
      "include_colab_link": true
    },
    "kernelspec": {
      "name": "python3",
      "display_name": "Python 3"
    }
  },
  "cells": [
    {
      "cell_type": "markdown",
      "metadata": {
        "id": "view-in-github",
        "colab_type": "text"
      },
      "source": [
        "<a href=\"https://colab.research.google.com/github/Azariagmt/data-science-notebooks/blob/master/Red_wine_quality_(DNN).ipynb\" target=\"_parent\"><img src=\"https://colab.research.google.com/assets/colab-badge.svg\" alt=\"Open In Colab\"/></a>"
      ]
    },
    {
      "cell_type": "code",
      "metadata": {
        "id": "iNQAKxoiDXJt"
      },
      "source": [
        "import pandas as pd\n",
        "red_wine_data = pd.read_csv('https://raw.githubusercontent.com/dphi-official/Datasets/master/Wine_Dataset/Training_set_redwine.csv')"
      ],
      "execution_count": 8,
      "outputs": []
    },
    {
      "cell_type": "code",
      "metadata": {
        "colab": {
          "base_uri": "https://localhost:8080/",
          "height": 221
        },
        "id": "tXPs7bKMDfep",
        "outputId": "323a3403-0f95-4e20-aa10-f80a7db96adc"
      },
      "source": [
        "red_wine_data.head()"
      ],
      "execution_count": 9,
      "outputs": [
        {
          "output_type": "execute_result",
          "data": {
            "text/html": [
              "<div>\n",
              "<style scoped>\n",
              "    .dataframe tbody tr th:only-of-type {\n",
              "        vertical-align: middle;\n",
              "    }\n",
              "\n",
              "    .dataframe tbody tr th {\n",
              "        vertical-align: top;\n",
              "    }\n",
              "\n",
              "    .dataframe thead th {\n",
              "        text-align: right;\n",
              "    }\n",
              "</style>\n",
              "<table border=\"1\" class=\"dataframe\">\n",
              "  <thead>\n",
              "    <tr style=\"text-align: right;\">\n",
              "      <th></th>\n",
              "      <th>fixed acidity</th>\n",
              "      <th>volatile acidity</th>\n",
              "      <th>citric acid</th>\n",
              "      <th>residual sugar</th>\n",
              "      <th>chlorides</th>\n",
              "      <th>free sulfur dioxide</th>\n",
              "      <th>total sulfur dioxide</th>\n",
              "      <th>density</th>\n",
              "      <th>pH</th>\n",
              "      <th>sulphates</th>\n",
              "      <th>alcohol</th>\n",
              "      <th>quality</th>\n",
              "    </tr>\n",
              "  </thead>\n",
              "  <tbody>\n",
              "    <tr>\n",
              "      <th>0</th>\n",
              "      <td>11.1</td>\n",
              "      <td>0.390</td>\n",
              "      <td>0.54</td>\n",
              "      <td>2.7</td>\n",
              "      <td>0.095</td>\n",
              "      <td>21.0</td>\n",
              "      <td>101.0</td>\n",
              "      <td>1.00010</td>\n",
              "      <td>3.13</td>\n",
              "      <td>0.51</td>\n",
              "      <td>9.5</td>\n",
              "      <td>5</td>\n",
              "    </tr>\n",
              "    <tr>\n",
              "      <th>1</th>\n",
              "      <td>15.6</td>\n",
              "      <td>0.645</td>\n",
              "      <td>0.49</td>\n",
              "      <td>4.2</td>\n",
              "      <td>0.095</td>\n",
              "      <td>10.0</td>\n",
              "      <td>23.0</td>\n",
              "      <td>1.00315</td>\n",
              "      <td>2.92</td>\n",
              "      <td>0.74</td>\n",
              "      <td>11.1</td>\n",
              "      <td>5</td>\n",
              "    </tr>\n",
              "    <tr>\n",
              "      <th>2</th>\n",
              "      <td>8.4</td>\n",
              "      <td>0.670</td>\n",
              "      <td>0.19</td>\n",
              "      <td>2.2</td>\n",
              "      <td>0.093</td>\n",
              "      <td>11.0</td>\n",
              "      <td>75.0</td>\n",
              "      <td>0.99736</td>\n",
              "      <td>3.20</td>\n",
              "      <td>0.59</td>\n",
              "      <td>9.2</td>\n",
              "      <td>4</td>\n",
              "    </tr>\n",
              "    <tr>\n",
              "      <th>3</th>\n",
              "      <td>7.7</td>\n",
              "      <td>0.180</td>\n",
              "      <td>0.34</td>\n",
              "      <td>2.7</td>\n",
              "      <td>0.066</td>\n",
              "      <td>15.0</td>\n",
              "      <td>58.0</td>\n",
              "      <td>0.99470</td>\n",
              "      <td>3.37</td>\n",
              "      <td>0.78</td>\n",
              "      <td>11.8</td>\n",
              "      <td>6</td>\n",
              "    </tr>\n",
              "    <tr>\n",
              "      <th>4</th>\n",
              "      <td>12.2</td>\n",
              "      <td>0.450</td>\n",
              "      <td>0.49</td>\n",
              "      <td>1.4</td>\n",
              "      <td>0.075</td>\n",
              "      <td>3.0</td>\n",
              "      <td>6.0</td>\n",
              "      <td>0.99690</td>\n",
              "      <td>3.13</td>\n",
              "      <td>0.63</td>\n",
              "      <td>10.4</td>\n",
              "      <td>5</td>\n",
              "    </tr>\n",
              "  </tbody>\n",
              "</table>\n",
              "</div>"
            ],
            "text/plain": [
              "   fixed acidity  volatile acidity  citric acid  ...  sulphates  alcohol  quality\n",
              "0           11.1             0.390         0.54  ...       0.51      9.5        5\n",
              "1           15.6             0.645         0.49  ...       0.74     11.1        5\n",
              "2            8.4             0.670         0.19  ...       0.59      9.2        4\n",
              "3            7.7             0.180         0.34  ...       0.78     11.8        6\n",
              "4           12.2             0.450         0.49  ...       0.63     10.4        5\n",
              "\n",
              "[5 rows x 12 columns]"
            ]
          },
          "metadata": {
            "tags": []
          },
          "execution_count": 9
        }
      ]
    },
    {
      "cell_type": "code",
      "metadata": {
        "id": "EmRlLli8DmTi"
      },
      "source": [
        "X = red_wine_data.drop(columns=\"quality\", axis=1)\n",
        "y = red_wine_data['quality']"
      ],
      "execution_count": 10,
      "outputs": []
    },
    {
      "cell_type": "code",
      "metadata": {
        "colab": {
          "base_uri": "https://localhost:8080/",
          "height": 221
        },
        "id": "7PU8up9NEVex",
        "outputId": "da12f35c-0dcc-4c6c-b25d-7501777313ff"
      },
      "source": [
        "X.head()"
      ],
      "execution_count": 11,
      "outputs": [
        {
          "output_type": "execute_result",
          "data": {
            "text/html": [
              "<div>\n",
              "<style scoped>\n",
              "    .dataframe tbody tr th:only-of-type {\n",
              "        vertical-align: middle;\n",
              "    }\n",
              "\n",
              "    .dataframe tbody tr th {\n",
              "        vertical-align: top;\n",
              "    }\n",
              "\n",
              "    .dataframe thead th {\n",
              "        text-align: right;\n",
              "    }\n",
              "</style>\n",
              "<table border=\"1\" class=\"dataframe\">\n",
              "  <thead>\n",
              "    <tr style=\"text-align: right;\">\n",
              "      <th></th>\n",
              "      <th>fixed acidity</th>\n",
              "      <th>volatile acidity</th>\n",
              "      <th>citric acid</th>\n",
              "      <th>residual sugar</th>\n",
              "      <th>chlorides</th>\n",
              "      <th>free sulfur dioxide</th>\n",
              "      <th>total sulfur dioxide</th>\n",
              "      <th>density</th>\n",
              "      <th>pH</th>\n",
              "      <th>sulphates</th>\n",
              "      <th>alcohol</th>\n",
              "    </tr>\n",
              "  </thead>\n",
              "  <tbody>\n",
              "    <tr>\n",
              "      <th>0</th>\n",
              "      <td>11.1</td>\n",
              "      <td>0.390</td>\n",
              "      <td>0.54</td>\n",
              "      <td>2.7</td>\n",
              "      <td>0.095</td>\n",
              "      <td>21.0</td>\n",
              "      <td>101.0</td>\n",
              "      <td>1.00010</td>\n",
              "      <td>3.13</td>\n",
              "      <td>0.51</td>\n",
              "      <td>9.5</td>\n",
              "    </tr>\n",
              "    <tr>\n",
              "      <th>1</th>\n",
              "      <td>15.6</td>\n",
              "      <td>0.645</td>\n",
              "      <td>0.49</td>\n",
              "      <td>4.2</td>\n",
              "      <td>0.095</td>\n",
              "      <td>10.0</td>\n",
              "      <td>23.0</td>\n",
              "      <td>1.00315</td>\n",
              "      <td>2.92</td>\n",
              "      <td>0.74</td>\n",
              "      <td>11.1</td>\n",
              "    </tr>\n",
              "    <tr>\n",
              "      <th>2</th>\n",
              "      <td>8.4</td>\n",
              "      <td>0.670</td>\n",
              "      <td>0.19</td>\n",
              "      <td>2.2</td>\n",
              "      <td>0.093</td>\n",
              "      <td>11.0</td>\n",
              "      <td>75.0</td>\n",
              "      <td>0.99736</td>\n",
              "      <td>3.20</td>\n",
              "      <td>0.59</td>\n",
              "      <td>9.2</td>\n",
              "    </tr>\n",
              "    <tr>\n",
              "      <th>3</th>\n",
              "      <td>7.7</td>\n",
              "      <td>0.180</td>\n",
              "      <td>0.34</td>\n",
              "      <td>2.7</td>\n",
              "      <td>0.066</td>\n",
              "      <td>15.0</td>\n",
              "      <td>58.0</td>\n",
              "      <td>0.99470</td>\n",
              "      <td>3.37</td>\n",
              "      <td>0.78</td>\n",
              "      <td>11.8</td>\n",
              "    </tr>\n",
              "    <tr>\n",
              "      <th>4</th>\n",
              "      <td>12.2</td>\n",
              "      <td>0.450</td>\n",
              "      <td>0.49</td>\n",
              "      <td>1.4</td>\n",
              "      <td>0.075</td>\n",
              "      <td>3.0</td>\n",
              "      <td>6.0</td>\n",
              "      <td>0.99690</td>\n",
              "      <td>3.13</td>\n",
              "      <td>0.63</td>\n",
              "      <td>10.4</td>\n",
              "    </tr>\n",
              "  </tbody>\n",
              "</table>\n",
              "</div>"
            ],
            "text/plain": [
              "   fixed acidity  volatile acidity  citric acid  ...    pH  sulphates  alcohol\n",
              "0           11.1             0.390         0.54  ...  3.13       0.51      9.5\n",
              "1           15.6             0.645         0.49  ...  2.92       0.74     11.1\n",
              "2            8.4             0.670         0.19  ...  3.20       0.59      9.2\n",
              "3            7.7             0.180         0.34  ...  3.37       0.78     11.8\n",
              "4           12.2             0.450         0.49  ...  3.13       0.63     10.4\n",
              "\n",
              "[5 rows x 11 columns]"
            ]
          },
          "metadata": {
            "tags": []
          },
          "execution_count": 11
        }
      ]
    },
    {
      "cell_type": "code",
      "metadata": {
        "id": "J8MA86BIEZS-"
      },
      "source": [
        "from sklearn.compose import ColumnTransformer\n",
        "from sklearn.pipeline import Pipeline\n",
        "from sklearn.preprocessing import StandardScaler, OneHotEncoder , LabelEncoder\n",
        "from sklearn.linear_model import LogisticRegression\n",
        "import numpy as np"
      ],
      "execution_count": 12,
      "outputs": []
    },
    {
      "cell_type": "code",
      "metadata": {
        "id": "BEVuIfBgEaHm"
      },
      "source": [
        "from sklearn.model_selection import train_test_split\n",
        "X_train, X_test, y_train, y_test = train_test_split(X, y, test_size= 0.3, random_state =101, stratify=y)"
      ],
      "execution_count": 19,
      "outputs": []
    },
    {
      "cell_type": "code",
      "metadata": {
        "id": "UsH-4jDTE0ma"
      },
      "source": [
        "# Define preprocessing for numeric columns (normalize them so they're on the same scale)\n",
        "numeric_features = [x for x in range(10)]\n",
        "numeric_transformer = Pipeline(steps=[\n",
        "    ('scaler', StandardScaler())])\n",
        "\n",
        "# Combine preprocessing steps\n",
        "preprocessor = ColumnTransformer(\n",
        "    transformers=[\n",
        "        ('num', numeric_transformer, numeric_features)])"
      ],
      "execution_count": 20,
      "outputs": []
    },
    {
      "cell_type": "code",
      "metadata": {
        "colab": {
          "base_uri": "https://localhost:8080/"
        },
        "id": "SzEJ_VjgFOfG",
        "outputId": "90bd42c7-768b-4d0b-b755-46e1cd53d22c"
      },
      "source": [
        "import tensorflow\n",
        "from tensorflow import keras\n",
        "from tensorflow.keras import models\n",
        "from tensorflow.keras.models import Sequential\n",
        "from tensorflow.keras.layers import Dense\n",
        "from tensorflow.keras import utils\n",
        "from tensorflow.keras import optimizers\n",
        "\n",
        "# Set random seed for reproducability\n",
        "tensorflow.random.set_seed(0)\n",
        "\n",
        "print(\"Libraries imported.\")\n",
        "print('Keras version:',keras.__version__)\n",
        "print('TensorFlow version:',tensorflow.__version__)"
      ],
      "execution_count": 21,
      "outputs": [
        {
          "output_type": "stream",
          "text": [
            "Libraries imported.\n",
            "Keras version: 2.4.0\n",
            "TensorFlow version: 2.4.1\n"
          ],
          "name": "stdout"
        }
      ]
    },
    {
      "cell_type": "code",
      "metadata": {
        "colab": {
          "base_uri": "https://localhost:8080/"
        },
        "id": "P12WhvxyFZ7r",
        "outputId": "f2f5eaad-1334-4e9e-b13a-3d7d360f7c9b"
      },
      "source": [
        "# Define a classifier network\n",
        "hl = 30 # Number of hidden layer nodes\n",
        "\n",
        "model = Sequential()\n",
        "model.add(Dense(hl, input_dim=len(X.columns), activation='relu'))\n",
        "model.add(Dense(hl, input_dim=hl, activation='relu'))\n",
        "model.add(Dense(hl, input_dim=hl, activation='relu'))\n",
        "model.add(Dense(11, input_dim=hl, activation='softmax'))\n",
        "\n",
        "print(model.summary())"
      ],
      "execution_count": 59,
      "outputs": [
        {
          "output_type": "stream",
          "text": [
            "Model: \"sequential_11\"\n",
            "_________________________________________________________________\n",
            "Layer (type)                 Output Shape              Param #   \n",
            "=================================================================\n",
            "dense_27 (Dense)             (None, 30)                360       \n",
            "_________________________________________________________________\n",
            "dense_28 (Dense)             (None, 30)                930       \n",
            "_________________________________________________________________\n",
            "dense_29 (Dense)             (None, 30)                930       \n",
            "_________________________________________________________________\n",
            "dense_30 (Dense)             (None, 11)                341       \n",
            "=================================================================\n",
            "Total params: 2,561\n",
            "Trainable params: 2,561\n",
            "Non-trainable params: 0\n",
            "_________________________________________________________________\n",
            "None\n"
          ],
          "name": "stdout"
        }
      ]
    },
    {
      "cell_type": "markdown",
      "metadata": {
        "id": "_j15N7FEGxC-"
      },
      "source": [
        "Train the model"
      ]
    },
    {
      "cell_type": "code",
      "metadata": {
        "id": "snvbWIITF29V"
      },
      "source": [
        "#hyper-parameters for optimizer\n",
        "learning_rate = 0.001\n",
        "opt = optimizers.Adam(lr=learning_rate)\n",
        "\n",
        "model.compile(loss='sparse_categorical_crossentropy',\n",
        "              optimizer=opt,\n",
        "              metrics=['accuracy'])"
      ],
      "execution_count": 60,
      "outputs": []
    },
    {
      "cell_type": "code",
      "metadata": {
        "colab": {
          "base_uri": "https://localhost:8080/"
        },
        "id": "KeufleeXG8Dr",
        "outputId": "a0c0c876-00e1-4916-90a3-20209818514d"
      },
      "source": [
        "# Train the model over 50 epochs using 10-observation batches and using the test holdout dataset for validation\n",
        "num_epochs = 50\n",
        "# Create preprocessing and training pipeline\n",
        "pipeline = Pipeline(steps=[('preprocessor', preprocessor),])\n",
        "\n",
        "history = model.fit(X_train, y_train, epochs=num_epochs, batch_size=10, validation_data=(X_test, y_test))"
      ],
      "execution_count": 62,
      "outputs": [
        {
          "output_type": "stream",
          "text": [
            "Epoch 1/50\n",
            "79/79 [==============================] - 0s 3ms/step - loss: 0.9578 - accuracy: 0.5862 - val_loss: 1.0229 - val_accuracy: 0.5893\n",
            "Epoch 2/50\n",
            "79/79 [==============================] - 0s 2ms/step - loss: 0.9648 - accuracy: 0.5645 - val_loss: 1.0484 - val_accuracy: 0.5863\n",
            "Epoch 3/50\n",
            "79/79 [==============================] - 0s 2ms/step - loss: 0.9545 - accuracy: 0.5951 - val_loss: 1.0423 - val_accuracy: 0.5446\n",
            "Epoch 4/50\n",
            "79/79 [==============================] - 0s 2ms/step - loss: 0.9367 - accuracy: 0.6015 - val_loss: 1.0222 - val_accuracy: 0.5565\n",
            "Epoch 5/50\n",
            "79/79 [==============================] - 0s 2ms/step - loss: 0.9335 - accuracy: 0.5977 - val_loss: 0.9963 - val_accuracy: 0.5863\n",
            "Epoch 6/50\n",
            "79/79 [==============================] - 0s 2ms/step - loss: 0.9144 - accuracy: 0.6015 - val_loss: 0.9768 - val_accuracy: 0.6161\n",
            "Epoch 7/50\n",
            "79/79 [==============================] - 0s 2ms/step - loss: 0.9212 - accuracy: 0.5875 - val_loss: 0.9836 - val_accuracy: 0.5833\n",
            "Epoch 8/50\n",
            "79/79 [==============================] - 0s 2ms/step - loss: 0.9244 - accuracy: 0.5875 - val_loss: 0.9868 - val_accuracy: 0.5982\n",
            "Epoch 9/50\n",
            "79/79 [==============================] - 0s 2ms/step - loss: 0.9108 - accuracy: 0.5964 - val_loss: 0.9890 - val_accuracy: 0.5863\n",
            "Epoch 10/50\n",
            "79/79 [==============================] - 0s 2ms/step - loss: 0.9231 - accuracy: 0.6028 - val_loss: 0.9805 - val_accuracy: 0.6042\n",
            "Epoch 11/50\n",
            "79/79 [==============================] - 0s 2ms/step - loss: 0.9191 - accuracy: 0.6041 - val_loss: 0.9786 - val_accuracy: 0.5804\n",
            "Epoch 12/50\n",
            "79/79 [==============================] - 0s 2ms/step - loss: 0.9091 - accuracy: 0.5849 - val_loss: 0.9826 - val_accuracy: 0.5655\n",
            "Epoch 13/50\n",
            "79/79 [==============================] - 0s 2ms/step - loss: 0.9142 - accuracy: 0.6028 - val_loss: 0.9851 - val_accuracy: 0.5804\n",
            "Epoch 14/50\n",
            "79/79 [==============================] - 0s 2ms/step - loss: 0.9115 - accuracy: 0.6054 - val_loss: 0.9704 - val_accuracy: 0.5952\n",
            "Epoch 15/50\n",
            "79/79 [==============================] - 0s 2ms/step - loss: 0.9212 - accuracy: 0.5939 - val_loss: 0.9645 - val_accuracy: 0.6131\n",
            "Epoch 16/50\n",
            "79/79 [==============================] - 0s 2ms/step - loss: 0.9020 - accuracy: 0.5837 - val_loss: 0.9683 - val_accuracy: 0.6131\n",
            "Epoch 17/50\n",
            "79/79 [==============================] - 0s 2ms/step - loss: 0.9010 - accuracy: 0.6156 - val_loss: 0.9680 - val_accuracy: 0.6071\n",
            "Epoch 18/50\n",
            "79/79 [==============================] - 0s 2ms/step - loss: 0.9203 - accuracy: 0.5926 - val_loss: 0.9794 - val_accuracy: 0.6161\n",
            "Epoch 19/50\n",
            "79/79 [==============================] - 0s 2ms/step - loss: 0.8947 - accuracy: 0.6066 - val_loss: 0.9884 - val_accuracy: 0.5893\n",
            "Epoch 20/50\n",
            "79/79 [==============================] - 0s 2ms/step - loss: 0.9085 - accuracy: 0.5977 - val_loss: 0.9838 - val_accuracy: 0.5714\n",
            "Epoch 21/50\n",
            "79/79 [==============================] - 0s 2ms/step - loss: 0.8898 - accuracy: 0.6156 - val_loss: 0.9703 - val_accuracy: 0.5804\n",
            "Epoch 22/50\n",
            "79/79 [==============================] - 0s 2ms/step - loss: 0.8985 - accuracy: 0.6003 - val_loss: 0.9796 - val_accuracy: 0.5833\n",
            "Epoch 23/50\n",
            "79/79 [==============================] - 0s 2ms/step - loss: 0.8932 - accuracy: 0.6156 - val_loss: 0.9997 - val_accuracy: 0.5923\n",
            "Epoch 24/50\n",
            "79/79 [==============================] - 0s 2ms/step - loss: 0.8976 - accuracy: 0.6258 - val_loss: 0.9947 - val_accuracy: 0.5804\n",
            "Epoch 25/50\n",
            "79/79 [==============================] - 0s 2ms/step - loss: 0.8926 - accuracy: 0.6028 - val_loss: 0.9805 - val_accuracy: 0.5774\n",
            "Epoch 26/50\n",
            "79/79 [==============================] - 0s 3ms/step - loss: 0.8810 - accuracy: 0.6054 - val_loss: 0.9650 - val_accuracy: 0.5982\n",
            "Epoch 27/50\n",
            "79/79 [==============================] - 0s 2ms/step - loss: 0.8821 - accuracy: 0.6079 - val_loss: 0.9903 - val_accuracy: 0.5982\n",
            "Epoch 28/50\n",
            "79/79 [==============================] - 0s 2ms/step - loss: 0.8988 - accuracy: 0.5939 - val_loss: 0.9746 - val_accuracy: 0.6131\n",
            "Epoch 29/50\n",
            "79/79 [==============================] - 0s 2ms/step - loss: 0.8772 - accuracy: 0.6181 - val_loss: 0.9786 - val_accuracy: 0.5863\n",
            "Epoch 30/50\n",
            "79/79 [==============================] - 0s 2ms/step - loss: 0.8636 - accuracy: 0.6322 - val_loss: 0.9807 - val_accuracy: 0.5863\n",
            "Epoch 31/50\n",
            "79/79 [==============================] - 0s 2ms/step - loss: 0.8956 - accuracy: 0.5951 - val_loss: 1.0256 - val_accuracy: 0.5387\n",
            "Epoch 32/50\n",
            "79/79 [==============================] - 0s 2ms/step - loss: 0.8979 - accuracy: 0.5926 - val_loss: 0.9898 - val_accuracy: 0.5625\n",
            "Epoch 33/50\n",
            "79/79 [==============================] - 0s 2ms/step - loss: 0.8706 - accuracy: 0.6117 - val_loss: 0.9658 - val_accuracy: 0.6101\n",
            "Epoch 34/50\n",
            "79/79 [==============================] - 0s 2ms/step - loss: 0.8606 - accuracy: 0.6143 - val_loss: 0.9816 - val_accuracy: 0.5863\n",
            "Epoch 35/50\n",
            "79/79 [==============================] - 0s 2ms/step - loss: 0.8686 - accuracy: 0.6003 - val_loss: 0.9673 - val_accuracy: 0.6071\n",
            "Epoch 36/50\n",
            "79/79 [==============================] - 0s 2ms/step - loss: 0.8711 - accuracy: 0.6117 - val_loss: 0.9751 - val_accuracy: 0.5982\n",
            "Epoch 37/50\n",
            "79/79 [==============================] - 0s 2ms/step - loss: 0.8644 - accuracy: 0.6041 - val_loss: 0.9617 - val_accuracy: 0.5952\n",
            "Epoch 38/50\n",
            "79/79 [==============================] - 0s 2ms/step - loss: 0.8518 - accuracy: 0.6309 - val_loss: 0.9641 - val_accuracy: 0.6042\n",
            "Epoch 39/50\n",
            "79/79 [==============================] - 0s 2ms/step - loss: 0.8610 - accuracy: 0.6271 - val_loss: 0.9614 - val_accuracy: 0.6042\n",
            "Epoch 40/50\n",
            "79/79 [==============================] - 0s 2ms/step - loss: 0.8543 - accuracy: 0.6066 - val_loss: 0.9722 - val_accuracy: 0.5833\n",
            "Epoch 41/50\n",
            "79/79 [==============================] - 0s 2ms/step - loss: 0.8572 - accuracy: 0.6309 - val_loss: 0.9693 - val_accuracy: 0.5863\n",
            "Epoch 42/50\n",
            "79/79 [==============================] - 0s 4ms/step - loss: 0.8623 - accuracy: 0.6207 - val_loss: 0.9677 - val_accuracy: 0.5893\n",
            "Epoch 43/50\n",
            "79/79 [==============================] - 0s 2ms/step - loss: 0.8517 - accuracy: 0.6296 - val_loss: 0.9829 - val_accuracy: 0.5744\n",
            "Epoch 44/50\n",
            "79/79 [==============================] - 0s 2ms/step - loss: 0.8756 - accuracy: 0.6015 - val_loss: 1.0028 - val_accuracy: 0.5655\n",
            "Epoch 45/50\n",
            "79/79 [==============================] - 0s 2ms/step - loss: 0.8610 - accuracy: 0.6207 - val_loss: 0.9942 - val_accuracy: 0.5536\n",
            "Epoch 46/50\n",
            "79/79 [==============================] - 0s 2ms/step - loss: 0.8414 - accuracy: 0.6194 - val_loss: 0.9983 - val_accuracy: 0.5714\n",
            "Epoch 47/50\n",
            "79/79 [==============================] - 0s 2ms/step - loss: 0.8452 - accuracy: 0.6194 - val_loss: 0.9771 - val_accuracy: 0.5774\n",
            "Epoch 48/50\n",
            "79/79 [==============================] - 0s 2ms/step - loss: 0.8381 - accuracy: 0.6245 - val_loss: 0.9894 - val_accuracy: 0.5833\n",
            "Epoch 49/50\n",
            "79/79 [==============================] - 0s 2ms/step - loss: 0.8307 - accuracy: 0.6398 - val_loss: 1.0059 - val_accuracy: 0.5446\n",
            "Epoch 50/50\n",
            "79/79 [==============================] - 0s 2ms/step - loss: 0.8272 - accuracy: 0.6309 - val_loss: 0.9667 - val_accuracy: 0.6012\n"
          ],
          "name": "stdout"
        }
      ]
    },
    {
      "cell_type": "code",
      "metadata": {
        "id": "JPxl3bGdI6YC"
      },
      "source": [
        ""
      ],
      "execution_count": null,
      "outputs": []
    }
  ]
}